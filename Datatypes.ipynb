{
  "nbformat": 4,
  "nbformat_minor": 0,
  "metadata": {
    "colab": {
      "provenance": [],
      "authorship_tag": "ABX9TyPOYzU8uGmqma0LOBpqZrXK",
      "include_colab_link": true
    },
    "kernelspec": {
      "name": "python3",
      "display_name": "Python 3"
    },
    "language_info": {
      "name": "python"
    }
  },
  "cells": [
    {
      "cell_type": "markdown",
      "metadata": {
        "id": "view-in-github",
        "colab_type": "text"
      },
      "source": [
        "<a href=\"https://colab.research.google.com/github/Ribeka8451/Python-cochex/blob/Master/Datatypes.ipynb\" target=\"_parent\"><img src=\"https://colab.research.google.com/assets/colab-badge.svg\" alt=\"Open In Colab\"/></a>"
      ]
    },
    {
      "cell_type": "code",
      "execution_count": null,
      "metadata": {
        "id": "XDkmG_AbylDv",
        "colab": {
          "base_uri": "https://localhost:8080/"
        },
        "outputId": "6d7dc47f-dc12-4750-c952-0d423e4c6cc0"
      },
      "outputs": [
        {
          "output_type": "stream",
          "name": "stdout",
          "text": [
            "Hello python\n"
          ]
        }
      ],
      "source": [
        "print('Hello python')"
      ]
    },
    {
      "cell_type": "code",
      "source": [
        "Datatypes:--\n",
        "\n",
        "   The type of data which can be stored is variable/identific\n",
        "\n",
        "A variable is like a container that stores the values\n",
        "\n",
        "a = 50\n",
        "A = 50\n",
        "\n",
        "Variable Naming Conventions :--\n",
        "\n",
        "1. A variable cannot begin with number\n",
        "\n",
        "2. The Variables are case sensitive.\n",
        "\n",
        "3. Variable names should not be reserved word or keywords\n",
        "\n",
        "4. No special Characters are used except under\n",
        "\n",
        "5. Variables should be have some specific meaning\n",
        "\n",
        "6. Variables can be of unlimited length\n",
        "\n",
        "a = 50\n",
        "A = 50\n",
        "\n",
        "age = 45\n",
        "Name =\n",
        "places =\n",
        "\n",
        "\n",
        "#Comments :---\n",
        "\n",
        "#Single line Comments\n",
        "\n",
        "...\n",
        "#Multi line Comments\n",
        "...\n",
        "\n",
        "#Types of datatypes:--\n",
        "\n",
        "#1. Numbers\n",
        "\n",
        "#2. String\n",
        "\n",
        "#3. List\n",
        "\n",
        "#4. tuple\n",
        "\n",
        "#5. Dictionary\n",
        "\n",
        "#6. Boolean\n",
        "\n",
        "#7. Set\n",
        "\n",
        "# Numbers:--\n",
        "# 1) Integers(int Datatypes):--\n",
        "#a = 10\n",
        "b = 20\n",
        "c = 10000\n",
        "\n",
        "print(a)\n",
        "print(b)\n",
        "print(c)\n",
        "\n",
        "\n",
        "# 2) floating point Numbers (float datatype)\n",
        "num = 3.2456895\n",
        "no2 = 544564.2654\n",
        "\n",
        "print(num)\n",
        "print(no2)\n",
        "\n",
        "\n",
        "# 3) Complex numbers(complex datatype):-\n",
        "# maths form of :- a+bi and in python :- a+bj\n",
        "# a and b are real nos\n",
        "# j = imaginary number (sqrt(-1))\n",
        "\n",
        "x = 3+4j\n",
        "y = 5+7j\n",
        "\n",
        "print(x)\n",
        "print(y)\n",
        "\n",
        "\n",
        "\n",
        "\n",
        "\n",
        "\n",
        "\n",
        "\n",
        "\n",
        "\n"
      ],
      "metadata": {
        "colab": {
          "base_uri": "https://localhost:8080/",
          "height": 140
        },
        "id": "zHh7sNAZ1fWT",
        "outputId": "b2fbdee0-7d25-4c36-90fd-5d59f79d4fe9"
      },
      "execution_count": 20,
      "outputs": [
        {
          "output_type": "error",
          "ename": "SyntaxError",
          "evalue": "invalid syntax (<ipython-input-20-7facce899aca>, line 1)",
          "traceback": [
            "\u001b[0;36m  File \u001b[0;32m\"<ipython-input-20-7facce899aca>\"\u001b[0;36m, line \u001b[0;32m1\u001b[0m\n\u001b[0;31m    Datatypes:--\u001b[0m\n\u001b[0m                ^\u001b[0m\n\u001b[0;31mSyntaxError\u001b[0m\u001b[0;31m:\u001b[0m invalid syntax\n"
          ]
        }
      ]
    },
    {
      "cell_type": "code",
      "source": [
        "# 2) String:--\n",
        "#Combination of Charcaters (a, b, c, d, e, f, .....z , A , B , C, D , E , ....Z , 1 , 2 , 3 ,, . )\n",
        "# it is enclosed in double quotes , single quotes\n",
        "\n",
        "Name = \"Coachx\"\n",
        "print(Name)\n",
        "print(\"The name of the platform which we will are learning the python is \" ,Name)\n",
        "\n",
        "\n",
        "Name2 = 'Students'\n",
        "print(Name2)\n",
        "\n",
        "\n"
      ],
      "metadata": {
        "colab": {
          "base_uri": "https://localhost:8080/"
        },
        "id": "GKL1ClUjML-D",
        "outputId": "a22d97f4-a5d9-4e03-9c57-808d96390b06"
      },
      "execution_count": 3,
      "outputs": [
        {
          "output_type": "stream",
          "name": "stdout",
          "text": [
            "Coachx\n",
            "The name of the platform which we will are learning the python is  Coachx\n",
            "Students\n"
          ]
        }
      ]
    },
    {
      "cell_type": "code",
      "source": [
        "#List Datatype :-- It is an Ordered Sequence of items\n",
        "\n",
        "emp_id = [1,2,3,4,5,6,7,8,9,1,0,2,3,5,6,8,89,9,5,5,6,5]\n",
        "print(\"The Employees ID's are :\" , emp_id)\n",
        "\n",
        "Multiple_list = [\"Students\" , 1,2,4,56,6,3,12432,546 , 'h', \"jkjsd\"]\n",
        "print(Multiple_list)\n",
        "\n",
        "\n"
      ],
      "metadata": {
        "colab": {
          "base_uri": "https://localhost:8080/"
        },
        "id": "pona4EoiegIe",
        "outputId": "403a0183-fbaa-42a3-cb7f-1e2abe5274c5"
      },
      "execution_count": 6,
      "outputs": [
        {
          "output_type": "stream",
          "name": "stdout",
          "text": [
            "The Employees ID's are : [1, 2, 3, 4, 5, 6, 7, 8, 9, 1, 0, 2, 3, 5, 6, 8, 89, 9, 5, 5, 6, 5]\n",
            "['Students', 1, 2, 4, 56, 6, 3, 12432, 546, 'h', 'jkjsd']\n"
          ]
        }
      ]
    },
    {
      "cell_type": "code",
      "source": [
        "# tuples Datatype :--(Imutability)\n",
        "# It is a collection Ordered Sequence of items\n",
        "\n",
        "t1 = (1,2,3,4,5,6,7)\n",
        "print(t1)\n",
        "\n",
        "t2 = (\"Students\" , 1,2,4,56,6,3,12432,546 , 'h', \"jkjsd\")\n",
        "print(t2)"
      ],
      "metadata": {
        "colab": {
          "base_uri": "https://localhost:8080/"
        },
        "id": "1x0fl3QhjQZ7",
        "outputId": "88a06e08-c316-46e5-c4a8-742e2c5a3dc1"
      },
      "execution_count": 8,
      "outputs": [
        {
          "output_type": "stream",
          "name": "stdout",
          "text": [
            "(1, 2, 3, 4, 5, 6, 7)\n",
            "('Students', 1, 2, 4, 56, 6, 3, 12432, 546, 'h', 'jkjsd')\n"
          ]
        }
      ]
    },
    {
      "cell_type": "code",
      "source": [
        "\n",
        "#dictionary datatype :--\n",
        "# Is an unordered Collection of Key_Value pairs\n",
        "\n",
        "d1 = {\n",
        "    \"Name\":\"Hitesh\",\n",
        "    \"Location\":\"Pune\",\n",
        "    \"Visited\" :\"Congo\" ,\n",
        "    \"Contact Nos\":\"99965433221\",\n",
        "    \"Empty\":\" \"\n",
        "\n",
        "}\n",
        "\n",
        "print(d1)\n"
      ],
      "metadata": {
        "colab": {
          "base_uri": "https://localhost:8080/"
        },
        "id": "fds3xfAFkrj2",
        "outputId": "affed19f-bef7-4a7f-aa8f-5a7a131b36cd"
      },
      "execution_count": 1,
      "outputs": [
        {
          "output_type": "stream",
          "name": "stdout",
          "text": [
            "{'Name': 'Hitesh', 'Location': 'Pune', 'Visited': 'Congo', 'Contact Nos': '99965433221', 'Empty': ' '}\n"
          ]
        }
      ]
    },
    {
      "cell_type": "code",
      "source": [
        "#SET :-- Unique Collection of items its called set\n",
        "\n",
        "s1 = {1,2,3,4,5,6,7}\n",
        "print(s1)\n",
        "\n",
        "s2 = {1,1,1,2,2,3,3,3,4,4,4}\n",
        "l1 = [1,1,1,2,2,3,3,4,4,5,5]\n",
        "print(s2)\n",
        "print(l1)\n"
      ],
      "metadata": {
        "colab": {
          "base_uri": "https://localhost:8080/"
        },
        "id": "O2u2w8MfMUJA",
        "outputId": "1cd136fa-07d2-49d6-ef31-823c44ba1cf6"
      },
      "execution_count": 12,
      "outputs": [
        {
          "output_type": "stream",
          "name": "stdout",
          "text": [
            "{1, 2, 3, 4, 5, 6, 7}\n",
            "{1, 2, 3, 4}\n",
            "[1, 1, 1, 2, 2, 3, 3, 4, 4, 5, 5]\n"
          ]
        }
      ]
    },
    {
      "cell_type": "code",
      "source": [
        "List :-- []\n",
        "tuple :-- ()\n",
        "dic :-- {\"Key\":\"Value\"}\n",
        "Set :-- {\"Unique Values\"}"
      ],
      "metadata": {
        "id": "ECKJepsnOjCG"
      },
      "execution_count": null,
      "outputs": []
    },
    {
      "cell_type": "code",
      "source": [
        "#Boolean :---\n",
        "#True\n",
        "#False\n",
        "\n",
        "a = 10\n",
        "b = a\n",
        "\n",
        "print(a==b)\n",
        "\n",
        "a = 20\n",
        "b = 30\n",
        "c = a\n",
        "d = b\n",
        "\n",
        "print(d)\n",
        "\n"
      ],
      "metadata": {
        "colab": {
          "base_uri": "https://localhost:8080/"
        },
        "id": "kuk3FJgWR3iT",
        "outputId": "9ef42020-5a3e-40d8-a0ac-c0dbda4bca12"
      },
      "execution_count": 15,
      "outputs": [
        {
          "output_type": "stream",
          "name": "stdout",
          "text": [
            "True\n",
            "30\n"
          ]
        }
      ]
    },
    {
      "cell_type": "code",
      "source": [
        "#How to check the dataype of any variable:\n",
        "\n",
        "#Types():--\n",
        "a = 10\n",
        "print(type(a))\n",
        "\n",
        "b = 10.00\n",
        "print(type(b))\n",
        "\n",
        "c = \"Hi\"\n",
        "print(type(c))\n",
        "\n",
        "d = True\n",
        "print(type(d))\n",
        "\n",
        "l1 = [1,2,3]\n",
        "print(type(l1))\n",
        "\n",
        "d1 = {\"Key\":\"Value\"}\n",
        "print(type(d1))\n",
        "\n",
        "s2 = {1,2,3}\n",
        "print(type(s2))\n",
        "\n",
        "t = ()\n",
        "print(type(t))\n",
        "\n"
      ],
      "metadata": {
        "colab": {
          "base_uri": "https://localhost:8080/"
        },
        "id": "zTHBQ7rKTWus",
        "outputId": "2947a40c-a3f7-4b02-8210-710d78c9e7ce"
      },
      "execution_count": 24,
      "outputs": [
        {
          "output_type": "stream",
          "name": "stdout",
          "text": [
            "<class 'int'>\n",
            "<class 'float'>\n",
            "<class 'str'>\n",
            "<class 'bool'>\n",
            "<class 'list'>\n",
            "<class 'dict'>\n",
            "<class 'set'>\n",
            "<class 'tuple'>\n"
          ]
        }
      ]
    },
    {
      "cell_type": "code",
      "source": [
        "Name = \"Manoj\"\n",
        "Age = 45\n",
        "print(\"Name is : \", Name , \"and age is :\", Age)\n",
        "\n",
        "\n",
        "#format menthod:--\n",
        "\n",
        "\n"
      ],
      "metadata": {
        "colab": {
          "base_uri": "https://localhost:8080/"
        },
        "id": "S3Tvo-eXWTYM",
        "outputId": "18f82d94-a762-455a-869b-276412db719a"
      },
      "execution_count": 36,
      "outputs": [
        {
          "output_type": "stream",
          "name": "stdout",
          "text": [
            "Name is :  Manoj and age is : 45\n"
          ]
        }
      ]
    },
    {
      "cell_type": "code",
      "source": [],
      "metadata": {
        "id": "wetP9YehXjef"
      },
      "execution_count": null,
      "outputs": []
    }
  ]
}