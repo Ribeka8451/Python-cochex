{
  "nbformat": 4,
  "nbformat_minor": 0,
  "metadata": {
    "colab": {
      "provenance": [],
      "authorship_tag": "ABX9TyMlcBqwZrlsmC074f+gb8CP",
      "include_colab_link": true
    },
    "kernelspec": {
      "name": "python3",
      "display_name": "Python 3"
    },
    "language_info": {
      "name": "python"
    }
  },
  "cells": [
    {
      "cell_type": "markdown",
      "metadata": {
        "id": "view-in-github",
        "colab_type": "text"
      },
      "source": [
        "<a href=\"https://colab.research.google.com/github/Ribeka8451/Python-cochex/blob/Master/Operators_2.ipynb\" target=\"_parent\"><img src=\"https://colab.research.google.com/assets/colab-badge.svg\" alt=\"Open In Colab\"/></a>"
      ]
    },
    {
      "cell_type": "code",
      "execution_count": null,
      "metadata": {
        "id": "noy35qcTZ0eM"
      },
      "outputs": [],
      "source": [
        "#Logical Operators:--\n",
        "\n",
        "#Bitwise Operators:--\n",
        "\n",
        "#Membership Operators:--\n",
        "\n",
        "#Identity Operators:--\n",
        "\n"
      ]
    },
    {
      "cell_type": "code",
      "source": [
        "#Logical Operators:---\n",
        "#Logical and Conditions:--\n",
        " if both the Operands or Conditions or Inputs are TRUE then condition is true otherwise false\n",
        "\n",
        "A           B             O/P\n",
        "True       True           True\n",
        "False      True           False\n",
        "True       False          False\n",
        "False      False          False\n",
        "\n",
        "#Logical or condition:---\n",
        " if any one Operands are True then condition is True otherwise False\n",
        "\n",
        "A           B             O/P\n",
        "True       True           True\n",
        "False      True           True\n",
        "True       False          True\n",
        "False      False          False\n",
        "\n",
        "#Logical NOT Conditions:----\n",
        "It just reverses the input\n",
        "\n",
        "A                   O/P\n",
        "True               False\n",
        "False              True\n",
        "\n",
        "#Logical XOR Conditions:----\n",
        "\n",
        "A           B             O/P\n",
        "True       True           False\n",
        "False      True           True\n",
        "True       False          True\n",
        "False      False          False\n",
        "\n",
        "\n",
        "\n"
      ],
      "metadata": {
        "id": "GpsI7iktdea1"
      },
      "execution_count": null,
      "outputs": []
    },
    {
      "cell_type": "code",
      "source": [
        "#Bitwise Operators:--\n",
        "\n",
        "Bitwise AND\n",
        "Bitwise OR\n",
        "Bitwise XOR\n"
      ],
      "metadata": {
        "id": "TaP3RpAQnc2D"
      },
      "execution_count": null,
      "outputs": []
    },
    {
      "cell_type": "code",
      "source": [
        "#Bitwise AND\n",
        "a = 1010\n",
        "b = 0b0100 #(start with zero you can write 0b)\n",
        "print(a&b)\n",
        "\n",
        "#Bitwise OR (|)\n",
        "x = 1010\n",
        "y = 0b0100\n",
        "print(x|y)\n",
        "\n",
        "x = 1010\n",
        "y = 0b0100\n",
        "z = (x|y)\n",
        "print(bin(z))\n",
        "\n",
        "#Bitwise XOR\n",
        "\n",
        "x = 0b0100\n",
        "y = 0b0101\n",
        "print(x^y)"
      ],
      "metadata": {
        "colab": {
          "base_uri": "https://localhost:8080/"
        },
        "id": "JcHG2Cu2ntGR",
        "outputId": "1164fc34-d350-4e66-af34-4de8def606ad"
      },
      "execution_count": 6,
      "outputs": [
        {
          "output_type": "stream",
          "name": "stdout",
          "text": [
            "0\n",
            "1014\n",
            "0b1111110110\n",
            "1\n"
          ]
        }
      ]
    },
    {
      "cell_type": "code",
      "source": [
        "1 #Identity Operators :---\n",
        "# is\n",
        "a = 3\n",
        "b = 3\n",
        "print(a is b)\n",
        "\n",
        "a = 3\n",
        "b = 4\n",
        "print(a is b)\n",
        "\n",
        "# is not\n",
        "\n",
        "a = 3\n",
        "b = 3\n",
        "print(a is not b)\n",
        "\n",
        "a = 3\n",
        "b = 4\n",
        "print(a is not b)\n",
        "\n",
        "#list\n",
        "x1 = [1,2,3]\n",
        "x2 = [1,2,3]\n",
        "print(x1 is x2)\n",
        "\n",
        "#string\n",
        "a = \"Hello\"\n",
        "b = \"Hello\"\n",
        "print(a is b)\n",
        "\n",
        "#Tuple\n",
        "x3 = (1,2,3)\n",
        "x4 = (1,2,3)\n",
        "print(x3 is x4)\n",
        "\n",
        "# To check the address of any variable you can use id() inbuilt function:-\n",
        "print(id(x3))\n",
        "print(id(x4))\n"
      ],
      "metadata": {
        "colab": {
          "base_uri": "https://localhost:8080/"
        },
        "id": "N2G5k2OQNaVN",
        "outputId": "eedd26d9-a5db-45b5-bdca-b42c24ce7e9c"
      },
      "execution_count": 17,
      "outputs": [
        {
          "output_type": "stream",
          "name": "stdout",
          "text": [
            "True\n",
            "False\n",
            "False\n",
            "True\n",
            "False\n",
            "True\n",
            "False\n",
            "134279259717184\n",
            "134279260178304\n"
          ]
        }
      ]
    },
    {
      "cell_type": "code",
      "source": [
        "#Membership Operators:---\n",
        "# To find the existence of particular element\n",
        "# Result :- True / False\n",
        "\n",
        "# in\n",
        "x = \"Hello Python\"\n",
        "print('H' in x)\n",
        "\n",
        "x = \"Hello Python\"\n",
        "print('x' in x)\n",
        "\n",
        "y = \"Hello_Guysss\"\n",
        "print('_G' in y)\n",
        "\n",
        "ls = [1,2,3,4,5]\n",
        "print(5 in ls)\n",
        "\n",
        "strs_ls = [\"One\" , \"two\" , \"three\" , \"Four\"]\n",
        "print(\"One \" in strs_ls)\n",
        "\n"
      ],
      "metadata": {
        "colab": {
          "base_uri": "https://localhost:8080/"
        },
        "id": "FL6ggc-5b_Tb",
        "outputId": "20c5cacd-2a66-42b3-fbc2-36d03c403523"
      },
      "execution_count": 25,
      "outputs": [
        {
          "output_type": "stream",
          "name": "stdout",
          "text": [
            "True\n",
            "False\n",
            "True\n",
            "True\n",
            "False\n"
          ]
        }
      ]
    },
    {
      "cell_type": "code",
      "source": [
        "#If I want to take input from the user\n",
        "Age = int(input(\"Enter your age\"))\n",
        "print(\"Age=\", Age)\n",
        "\n",
        "Name = input(\"Enter Your name:\")\n",
        "print(\"Name=\", Name)\n",
        "\n",
        "\n",
        "x = 10\n",
        "y = 20\n",
        "print(\"the value of x is\" , x , \"and value of y is \", y)"
      ],
      "metadata": {
        "colab": {
          "base_uri": "https://localhost:8080/"
        },
        "id": "w1qBnZ5ceou3",
        "outputId": "64d05174-1168-4780-966b-0c600e4eaa90"
      },
      "execution_count": 29,
      "outputs": [
        {
          "output_type": "stream",
          "name": "stdout",
          "text": [
            "Enter your age17\n",
            "Age= 17\n",
            "Enter Your name:yash\n",
            "Name= yash\n",
            "the value of x is 10 and value of y is  20\n"
          ]
        }
      ]
    },
    {
      "cell_type": "code",
      "source": [
        "# program to find the square root of number\n",
        "\n",
        "x = int(input(\"Enter an integer number:\"))\n",
        "ans = x**0.5\n",
        "print(\"Square root of a given number is = \", ans)"
      ],
      "metadata": {
        "colab": {
          "base_uri": "https://localhost:8080/"
        },
        "id": "_87vtEg1mg8d",
        "outputId": "ef3ee953-7a8c-4b19-b994-d77b7198de8f"
      },
      "execution_count": 30,
      "outputs": [
        {
          "output_type": "stream",
          "name": "stdout",
          "text": [
            "Enter an integer number:144\n",
            "Square root of a given number is =  12.0\n"
          ]
        }
      ]
    },
    {
      "cell_type": "code",
      "source": [
        "# program to find the area of a reactangle\n",
        "l = float(input(\"Enter the length of the rectangle\"))\n",
        "b = float(input(\"Enter the breadth of the rectangle\"))\n",
        "\n",
        "area = 1*b\n",
        "print(\"The area of rectangle is\", int(area))\n",
        "\n"
      ],
      "metadata": {
        "colab": {
          "base_uri": "https://localhost:8080/"
        },
        "id": "FVbtvsQInKL5",
        "outputId": "e3fa4c07-bf93-4924-cd63-7004306022dc"
      },
      "execution_count": 32,
      "outputs": [
        {
          "output_type": "stream",
          "name": "stdout",
          "text": [
            "Enter the length of the rectangle50\n",
            "Enter the breadth of the rectangle506\n",
            "The area of rectangle is 506\n"
          ]
        }
      ]
    },
    {
      "cell_type": "code",
      "source": [
        "# program to calculate the area and perimeter fo the square\n",
        "side = int(input(\"Enter the side of the square\"))\n",
        "area = side*side\n",
        "print(\"Area of the Square is \", area)\n",
        "perimeter = 4*side\n",
        "print(\"perimeter of the Square is \", perimeter)"
      ],
      "metadata": {
        "colab": {
          "base_uri": "https://localhost:8080/"
        },
        "id": "rEfyWyYZqKLN",
        "outputId": "6e01f2c6-8b15-488a-c4b4-5e6ff62b3ff6"
      },
      "execution_count": 33,
      "outputs": [
        {
          "output_type": "stream",
          "name": "stdout",
          "text": [
            "Enter the side of the square10\n",
            "Area of the Square is  100\n",
            "perimeter of the Square is  40\n"
          ]
        }
      ]
    },
    {
      "cell_type": "code",
      "source": [
        "# program to calculate the surface volume and area of cylinder\n",
        "pi = 22/7 #3.14\n",
        "\n",
        "r = float(input(\"Enter radius of cylinder\"))\n",
        "h = float(input(\"Enter height of cylinder\"))\n",
        "\n",
        "Volume = pi*r*r*h\n",
        "Surface_area = ((2*pi*r)*h) + ((pi*r**2)*2)\n",
        "\n",
        "print(\"Volume of the cylinder is =\" , Volume)\n",
        "print(\"Surface area of the cylinder is =\" , Surface_area)\n"
      ],
      "metadata": {
        "colab": {
          "base_uri": "https://localhost:8080/"
        },
        "id": "LVnI47k7rnSI",
        "outputId": "c4a1cac2-1ea3-4ca0-e9c7-4763e8e89ae9"
      },
      "execution_count": 34,
      "outputs": [
        {
          "output_type": "stream",
          "name": "stdout",
          "text": [
            "Enter radius of cylinder8\n",
            "Enter height of cylinder4\n",
            "Volume of the cylinder is = 804.5714285714286\n",
            "Surface area of the cylinder is = 603.4285714285714\n"
          ]
        }
      ]
    },
    {
      "cell_type": "code",
      "source": [
        "1 # program to swap the values of the two variables either using the third variable or without using the third variable\n",
        "2\n",
        "3 #By using the third variable:---\n",
        "num1 = int(input(\"Enter first number:\"))\n",
        "num2 = int(input(\"Enter second number\"))\n",
        "print(\"Numbers before swapping\")\n",
        "print(\"num1=\", num1)\n",
        "print(\"num2=\", num2)\n",
        "\n",
        "temp = num1\n",
        "num1 = num2\n",
        "num2 = temp\n",
        "\n",
        "print(\"Numbers after swapping\")\n",
        "print(\"num1:\", num1)\n",
        "print(\"num2:\", num2)\n",
        "\n",
        "# without using the third variable\n",
        "\n",
        "nos1 = int(input(\"Enter first number:\"))\n",
        "nos2 = int(input(\"Enter second number\"))\n",
        "print(\"Numbers before swapping\")\n",
        "print(\"num1=\", nos1)\n",
        "print(\"num2=\", nos2)\n",
        "\n",
        "nos1 , nos2 = nos2 , nos1\n",
        "\n",
        "print(\"Numbers after swapping\")\n",
        "print(\"num1:\", nos1)\n",
        "print(\"num2:\", nos2)\n"
      ],
      "metadata": {
        "colab": {
          "base_uri": "https://localhost:8080/"
        },
        "id": "TGCkfz3dxY5B",
        "outputId": "8387cb87-1f6a-47e7-847d-bc416be3471f"
      },
      "execution_count": 36,
      "outputs": [
        {
          "output_type": "stream",
          "name": "stdout",
          "text": [
            "Enter first number:30\n",
            "Enter second number40\n",
            "Numbers before swapping\n",
            "num1= 30\n",
            "num2= 40\n",
            "Numbers after swapping\n",
            "num1: 40\n",
            "num2: 30\n",
            "Enter first number:10\n",
            "Enter second number20\n",
            "Numbers before swapping\n",
            "num1= 10\n",
            "num2= 20\n",
            "Numbers after swapping\n",
            "num1: 20\n",
            "num2: 10\n"
          ]
        }
      ]
    }
  ]
}