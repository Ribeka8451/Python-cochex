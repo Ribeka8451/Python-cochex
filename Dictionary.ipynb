{
  "nbformat": 4,
  "nbformat_minor": 0,
  "metadata": {
    "colab": {
      "provenance": [],
      "authorship_tag": "ABX9TyOvF+G9kZ2PkJ/yYmfCHLyV",
      "include_colab_link": true
    },
    "kernelspec": {
      "name": "python3",
      "display_name": "Python 3"
    },
    "language_info": {
      "name": "python"
    }
  },
  "cells": [
    {
      "cell_type": "markdown",
      "metadata": {
        "id": "view-in-github",
        "colab_type": "text"
      },
      "source": [
        "<a href=\"https://colab.research.google.com/github/Ribeka8451/Python-cochex/blob/Master/Dictionary.ipynb\" target=\"_parent\"><img src=\"https://colab.research.google.com/assets/colab-badge.svg\" alt=\"Open In Colab\"/></a>"
      ]
    },
    {
      "cell_type": "code",
      "execution_count": 3,
      "metadata": {
        "colab": {
          "base_uri": "https://localhost:8080/"
        },
        "id": "WLAj6kshmdZb",
        "outputId": "4e060c3d-a885-499a-bb18-465119a4654e"
      },
      "outputs": [
        {
          "output_type": "stream",
          "name": "stdout",
          "text": [
            "{1: 'Orange', 2: 'Mango', 3: 'Banana', 'name': 'Coachx', 'name2': 'Vipul'}\n",
            "{'name': 'Prem', 1: [10, 20], 2: [30, 40]}\n"
          ]
        }
      ],
      "source": [
        "# Dictionary :- It is always used to store the data in \"key values\" pairs\n",
        "# syantx :-\n",
        "# dictionary_name = {\n",
        "\n",
        "#                    key1 : \"value1\",\n",
        "#                   \"key2\": \"value2\",\n",
        "#                    key3 : \"value3\",\n",
        "#                    .\n",
        "#                    .\n",
        "#                    .\n",
        "#                    .\n",
        "#                    keyn : valuen\n",
        "#                    key_n: value_n\n",
        "\n",
        "\n",
        "# }\n",
        "\n",
        "d1 = {\n",
        "    1: \"Orange\",\n",
        "    2: \"Mango\",\n",
        "    3: \"Banana\",\n",
        "    \"name\" :\"Coachx\",\n",
        "    'name2':\"Vipul\"\n",
        "}\n",
        "\n",
        "print(d1)\n",
        "\n",
        "d2 = {\n",
        "\n",
        "      'name':'Prem',\n",
        "      1: [10,20],\n",
        "      2: [30,40]\n",
        "}\n",
        "\n",
        "print(d2) #dictionary with mixed data type key value pairs"
      ]
    },
    {
      "cell_type": "code",
      "source": [
        "# Create dictionary using dict()\n",
        "d3 = dict({\n",
        "        \"title\": \"Sample konfabulator widget\",\n",
        "        \"name\": \"main_window\",\n",
        "        \"width\":500,\n",
        "        \"height\":500\n",
        "})\n",
        "\n",
        "print(d3)\n",
        "\n"
      ],
      "metadata": {
        "colab": {
          "base_uri": "https://localhost:8080/"
        },
        "id": "0PtDaH_SvlgC",
        "outputId": "3bfb6963-3c3b-4e2c-9032-32404a42b066"
      },
      "execution_count": 4,
      "outputs": [
        {
          "output_type": "stream",
          "name": "stdout",
          "text": [
            "{'title': 'Sample konfabulator widget', 'name': 'main_window', 'width': 500, 'height': 500}\n"
          ]
        }
      ]
    },
    {
      "cell_type": "code",
      "source": [
        "jsondata = {\n",
        "    \"title\": \"Sample konfabulator widget\",\n",
        "        \"name\": \"main_window\",\n",
        "        \"width\":500,\n",
        "        \"height\":500,\n",
        "}\n",
        "\n",
        "#Access the value in a dictionary\n",
        "print(jsondata)\n",
        "\n",
        "#Access the key in a dictionary\n",
        "for key in jsondata:\n",
        "  print(key)\n",
        "\n",
        "#using get function we will access the values\n",
        "print(\"Value using get function:\" , jsondata.get('viewType'))"
      ],
      "metadata": {
        "colab": {
          "base_uri": "https://localhost:8080/"
        },
        "id": "GqJ9e2wEBJdw",
        "outputId": "fae49c99-44a0-47e7-ef7a-50c54cdfc841"
      },
      "execution_count": 34,
      "outputs": [
        {
          "output_type": "stream",
          "name": "stdout",
          "text": [
            "{'title': 'Sample konfabulator widget', 'name': 'main_window', 'width': 500, 'height': 500}\n",
            "title\n",
            "name\n",
            "width\n",
            "height\n",
            "Value using get function: None\n"
          ]
        }
      ]
    },
    {
      "cell_type": "code",
      "source": [
        "# Deleting the elements from a dictionary:-\n",
        "\n",
        "print(jsondata.popitem()) #it always delete the data from the end\n",
        "print(jsondata)\n",
        "\n",
        "print(jsondata.pop('name')) #remove the particular items from the dictionary\n",
        "print(jsondata)\n",
        "\n",
        "print(jsondata.clear) #remove the all data\n",
        "print(jsondata)"
      ],
      "metadata": {
        "id": "jwzei3YHaAP4"
      },
      "execution_count": null,
      "outputs": []
    },
    {
      "cell_type": "code",
      "source": [
        "data = {\n",
        "       \"id\" : \"f6w7-q2d2\",\n",
        "       \"name\": \"Electric data\",\n",
        "       \"assetType\" : \"dataset\",\n",
        "       \"attribution\" : \"Washing state Dep\",\n",
        "       \"averageRating\" : 0,\n",
        "       \"category\" : \"Transportation\"\n",
        "}\n",
        "\n",
        "print(data)\n",
        "\n",
        "#I want my data in key value pair in vertical order\n",
        "\n",
        "for i in data:\n",
        "  print(i , data[i])\n",
        "\n",
        "#Double Quoted:\n",
        "for key,value in data.items():\n",
        "  print(f\"{key}:\\\"{value}\\\"\")\n"
      ],
      "metadata": {
        "colab": {
          "base_uri": "https://localhost:8080/"
        },
        "id": "dxy5LZV-jKOR",
        "outputId": "53aa25d2-8c04-44cd-ad9b-b407c9334de8"
      },
      "execution_count": 49,
      "outputs": [
        {
          "output_type": "stream",
          "name": "stdout",
          "text": [
            "{'id': 'f6w7-q2d2', 'name': 'Electric data', 'assetType': 'dataset', 'attribution': 'Washing state Dep', 'averageRating': 0, 'category': 'Transportation'}\n",
            "id f6w7-q2d2\n",
            "name Electric data\n",
            "assetType dataset\n",
            "attribution Washing state Dep\n",
            "averageRating 0\n",
            "category Transportation\n",
            "id:\"f6w7-q2d2\"\n",
            "name:\"Electric data\"\n",
            "assetType:\"dataset\"\n",
            "attribution:\"Washing state Dep\"\n",
            "averageRating:\"0\"\n",
            "category:\"Transportation\"\n"
          ]
        }
      ]
    },
    {
      "cell_type": "code",
      "source": [
        "for keys in data:\n",
        "  print(keys)\n",
        "\n",
        "print(data.keys()) #To get the keys using keys funtions\n",
        "\n",
        "print(data.values()) #To access the all value from the dictionary\n",
        "\n"
      ],
      "metadata": {
        "colab": {
          "base_uri": "https://localhost:8080/"
        },
        "id": "ypO2XNyOqVpr",
        "outputId": "05fb211b-a2ca-4161-b1d6-c2199bf00cdb"
      },
      "execution_count": 51,
      "outputs": [
        {
          "output_type": "stream",
          "name": "stdout",
          "text": [
            "id\n",
            "name\n",
            "assetType\n",
            "attribution\n",
            "averageRating\n",
            "category\n",
            "dict_keys(['id', 'name', 'assetType', 'attribution', 'averageRating', 'category'])\n",
            "dict_values(['f6w7-q2d2', 'Electric data', 'dataset', 'Washing state Dep', 0, 'Transportation'])\n"
          ]
        }
      ]
    },
    {
      "cell_type": "code",
      "source": [
        "#updating the dictionary:\n",
        "data['id'] = 1 #by using the keys we can able to update the value of the dictionary\n",
        "print(data)"
      ],
      "metadata": {
        "colab": {
          "base_uri": "https://localhost:8080/"
        },
        "id": "4Tskg5Srrg4Q",
        "outputId": "77b85bd4-d4fb-443b-fa4d-817f94299a63"
      },
      "execution_count": 52,
      "outputs": [
        {
          "output_type": "stream",
          "name": "stdout",
          "text": [
            "{'id': 1, 'name': 'Electric data', 'assetType': 'dataset', 'attribution': 'Washing state Dep', 'averageRating': 0, 'category': 'Transportation'}\n"
          ]
        }
      ]
    },
    {
      "cell_type": "code",
      "source": [
        "#check the values of a particular key:\n",
        "\n",
        "print('name' in data)\n",
        "\n",
        "print(data['assetType'])\n",
        "\n",
        "specific_key = 'assetType'\n",
        "if specific_key in data:\n",
        "  values_of_specific_key = data[specific_key]\n",
        "  print(f\"The value of keys is {specific_key}' is '{values_of_specific_key}' \")\n",
        "else:\n",
        "  print(f\"key{specific_key} is not found\")"
      ],
      "metadata": {
        "colab": {
          "base_uri": "https://localhost:8080/"
        },
        "id": "1WelNyuQs6BH",
        "outputId": "befec972-daa7-496b-8a06-5aa62b7cd2ed"
      },
      "execution_count": 56,
      "outputs": [
        {
          "output_type": "stream",
          "name": "stdout",
          "text": [
            "True\n",
            "dataset\n",
            "The value of keys is assetType' is 'dataset' \n"
          ]
        }
      ]
    },
    {
      "cell_type": "code",
      "source": [
        "d4 = {\"id\" : \" \"}\n",
        "print(d4)\n",
        "d4['id'] = 10\n",
        "print(d4)"
      ],
      "metadata": {
        "colab": {
          "base_uri": "https://localhost:8080/"
        },
        "id": "n0oLWf9FxFTJ",
        "outputId": "63aaa350-8f7d-40c2-c3d7-199ff589deec"
      },
      "execution_count": 58,
      "outputs": [
        {
          "output_type": "stream",
          "name": "stdout",
          "text": [
            "{'id': ' '}\n",
            "{'id': 10}\n"
          ]
        }
      ]
    },
    {
      "cell_type": "code",
      "source": [
        "# Built in function:\n",
        "\n",
        "print(all(data))\n",
        "\n",
        "dict1 = {\n",
        "\n",
        "}\n",
        "\n",
        "print(any(dict1))\n",
        "\n",
        "print(all(dict1)) # If keys are present or dictionary is empty\n",
        "\n",
        "print(len(data))"
      ],
      "metadata": {
        "colab": {
          "base_uri": "https://localhost:8080/"
        },
        "id": "03TSz9tB1OMf",
        "outputId": "ea141ea2-9811-436b-8320-c9efd4894919"
      },
      "execution_count": 62,
      "outputs": [
        {
          "output_type": "stream",
          "name": "stdout",
          "text": [
            "True\n",
            "False\n",
            "True\n",
            "6\n"
          ]
        }
      ]
    }
  ]
}