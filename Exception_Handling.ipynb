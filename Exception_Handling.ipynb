{
  "nbformat": 4,
  "nbformat_minor": 0,
  "metadata": {
    "colab": {
      "provenance": [],
      "authorship_tag": "ABX9TyPEP3V9ZZpYhVJwIo1PF22n",
      "include_colab_link": true
    },
    "kernelspec": {
      "name": "python3",
      "display_name": "Python 3"
    },
    "language_info": {
      "name": "python"
    }
  },
  "cells": [
    {
      "cell_type": "markdown",
      "metadata": {
        "id": "view-in-github",
        "colab_type": "text"
      },
      "source": [
        "<a href=\"https://colab.research.google.com/github/Ribeka8451/Python-cochex/blob/Master/Exception_Handling.ipynb\" target=\"_parent\"><img src=\"https://colab.research.google.com/assets/colab-badge.svg\" alt=\"Open In Colab\"/></a>"
      ]
    },
    {
      "cell_type": "code",
      "execution_count": null,
      "metadata": {
        "id": "0kx4dRrVq0lD"
      },
      "outputs": [],
      "source": [
        "# Three types of Errors:\n",
        "# 1. Compile time errors: Syntactical errors(Syntax Errors)\n",
        "\n",
        "# 2. Runtime Errors:\n",
        "\n",
        "# 3. Logical Errors:\n",
        "\n",
        "\n",
        "# Built-in Exceptions:\n",
        "\n",
        "# 1. ArithmeticError\n",
        "\n",
        "# 2. AssertionError\n",
        "\n",
        "# 3. AttributeError\n",
        "\n",
        "# 4. NameError\n",
        "\n",
        "# 5. ValueError\n",
        "\n",
        "# 6. IndentationError\n",
        "\n",
        "# 7. ZeroDivisionError\n",
        "\n"
      ]
    },
    {
      "cell_type": "code",
      "source": [
        "# Exception Handling Syntax\n",
        "\n",
        "# try:\n",
        "    # certain operations\n",
        "\n",
        "# except Exceptions:\n",
        "      # if there is show our own error messages\n",
        "\n"
      ],
      "metadata": {
        "id": "GPRSIKSJMx7k"
      },
      "execution_count": null,
      "outputs": []
    },
    {
      "cell_type": "code",
      "source": [
        "#  ZeroDivisionError\n",
        "\n",
        "a = int(input(\"Enter a first number:\"))\n",
        "\n",
        "b = int(input(\"Enter a second number:\"))\n",
        "\n",
        "try:\n",
        "  a/b\n",
        "\n",
        "except ZeroDivisionError:\n",
        "  print(\"Divide by Zero Error Please change the input of b:\")\n",
        "\n",
        "else:\n",
        "  print(\"Your answer is:\", a/b)\n",
        "\n",
        "finally:\n",
        "  print(\"Execute finally clause:\")\n",
        "\n"
      ],
      "metadata": {
        "colab": {
          "base_uri": "https://localhost:8080/"
        },
        "id": "MYjpqqVbNB9f",
        "outputId": "c6d470d1-e2d2-4e4c-8ec6-49fe041434d1"
      },
      "execution_count": 1,
      "outputs": [
        {
          "output_type": "stream",
          "name": "stdout",
          "text": [
            "Enter a first number:10\n",
            "Enter a second number:3\n",
            "Your answer is: 3.3333333333333335\n",
            "Execute finally clause:\n"
          ]
        }
      ]
    },
    {
      "cell_type": "code",
      "source": [
        "while True:\n",
        "  try:\n",
        "    age = int(input(\"Enter you are age for election:\"))\n",
        "    if age< 18:\n",
        "      raise Exception\n",
        "    else:\n",
        "      print(\"You are eligible for election:\")\n",
        "      break\n",
        "\n",
        "  except Exception:\n",
        "      print(\"You are not eligible\")\n"
      ],
      "metadata": {
        "colab": {
          "base_uri": "https://localhost:8080/"
        },
        "id": "6DiDKULbYfrE",
        "outputId": "9811d718-a324-430a-d32c-3c29cde0758d"
      },
      "execution_count": 4,
      "outputs": [
        {
          "output_type": "stream",
          "name": "stdout",
          "text": [
            "Enter you are age for election:15\n",
            "You are not eligible\n",
            "Enter you are age for election:21\n",
            "You are eligible for election:\n"
          ]
        }
      ]
    },
    {
      "cell_type": "code",
      "source": [
        "def verify_password(pwd):\n",
        "   try :\n",
        "    if str(pwd) != 'coachx':\n",
        "      raise Exception\n",
        "    else:\n",
        "      print(\"Valid Password \"+str(pwd))\n",
        "   except Exception :\n",
        "     print(\"Please provide the valid password start with co\")\n",
        "\n",
        "verify_password('abc')\n",
        "verify_password('coachx')\n",
        "verify_password('123')"
      ],
      "metadata": {
        "colab": {
          "base_uri": "https://localhost:8080/"
        },
        "id": "HmBC-fdZZol6",
        "outputId": "ab6f2b39-bad6-4559-b229-57ea47aa1fef"
      },
      "execution_count": 8,
      "outputs": [
        {
          "output_type": "stream",
          "name": "stdout",
          "text": [
            "Please provide the valid password start with co\n",
            "Valid Password coachx\n",
            "Please provide the valid password start with co\n"
          ]
        }
      ]
    },
    {
      "cell_type": "code",
      "source": [],
      "metadata": {
        "id": "9qyCGvnXnHh3"
      },
      "execution_count": null,
      "outputs": []
    }
  ]
}