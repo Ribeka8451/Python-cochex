{
  "nbformat": 4,
  "nbformat_minor": 0,
  "metadata": {
    "colab": {
      "provenance": [],
      "authorship_tag": "ABX9TyNccWNRWDV75X8AOx98Wypt",
      "include_colab_link": true
    },
    "kernelspec": {
      "name": "python3",
      "display_name": "Python 3"
    },
    "language_info": {
      "name": "python"
    }
  },
  "cells": [
    {
      "cell_type": "markdown",
      "metadata": {
        "id": "view-in-github",
        "colab_type": "text"
      },
      "source": [
        "<a href=\"https://colab.research.google.com/github/Ribeka8451/Python-cochex/blob/Master/Tuples.ipynb\" target=\"_parent\"><img src=\"https://colab.research.google.com/assets/colab-badge.svg\" alt=\"Open In Colab\"/></a>"
      ]
    },
    {
      "cell_type": "code",
      "execution_count": null,
      "metadata": {
        "id": "3a-kMoG_YgPF"
      },
      "outputs": [],
      "source": [
        "# Tuples:-\n",
        "# A tuple is collection of objects / items / values which are ordered and immutable.\n",
        "\n",
        "# Difference between tuples and list:\n",
        "\n",
        "# List\n",
        "# List us collection of objects / items / values which are ordered as we as Unordered.\n",
        "# List is a mutable.\n",
        "# The syntax of list uses the sqaure braces []\n",
        "# List has more functionality than tuple\n",
        "# List are homogenous\n",
        "# List always show the order\n",
        "\n",
        "# Tuples:\n",
        "# A tuple is collection of objects / items / values which are ordered\n",
        "# Tuples having the feature of Imutability\n",
        "# Syntax of tuples uses the parenthesis()\n",
        "# Tuples having less functionality compared to lists\n",
        "# Tuples are heterogenous\n"
      ]
    },
    {
      "cell_type": "code",
      "source": [
        "# Tuple assignment:\n",
        "\n",
        "coachx = (11, \"Vipul\" , \"Indore\", 'A')\n",
        "coachx = (12, \"Hitesh\" , \"Pune\", 'B')\n",
        "coachx = (13, \"Manoj\" , \"Meerut\", 'C')\n",
        "\n",
        "(id, name, city, A) = coachx\n",
        "(id, name, city, B) = coachx\n",
        "(id, name, city, C) = coachx\n",
        "\n",
        "\n",
        "print(id)\n",
        "print(name)\n",
        "print(city)\n",
        "\n",
        "\n",
        "\n",
        "\n"
      ],
      "metadata": {
        "colab": {
          "base_uri": "https://localhost:8080/"
        },
        "id": "ZiesAJWDcH0h",
        "outputId": "57fc7232-971d-4b23-eecf-a905c1d0c432"
      },
      "execution_count": 15,
      "outputs": [
        {
          "output_type": "stream",
          "name": "stdout",
          "text": [
            "13\n",
            "Manoj\n",
            "Meerut\n"
          ]
        }
      ]
    },
    {
      "cell_type": "code",
      "source": [
        "# Creating the tuples:\n",
        "\n",
        "t1 = (10,20,30) # Tuples with integer values\n",
        "print(t1)\n",
        "\n",
        "t2 = (10,20, 'abc' , 'a' , True , False , 3.14)\n",
        "print(t2)\n",
        "\n",
        "\n",
        "\n",
        "t3 = 10,20,30,40,50 #Tuple without parenthesis\n",
        "print(t3)\n",
        "print(type(t3))\n",
        "\n",
        "t4 = (1,2,3,4,5,(7,8,9,10),'Python') #tuple inside the tuple\n",
        "print(t4)\n",
        "\n",
        "t5 = (1,2,3,4,5,[1,2,3,4,(\"python\")] , ([1,2,3,4,5])) #tuples is said the heterogenous\n",
        "print(t5)\n"
      ],
      "metadata": {
        "colab": {
          "base_uri": "https://localhost:8080/"
        },
        "id": "juS55UB7jpPE",
        "outputId": "e76a3b1a-1799-4eda-b6b7-ba642d841e41"
      },
      "execution_count": 5,
      "outputs": [
        {
          "output_type": "stream",
          "name": "stdout",
          "text": [
            "(10, 20, 30)\n",
            "(10, 20, 'abc', 'a', True, False, 3.14)\n",
            "(10, 20, 30, 40, 50)\n",
            "<class 'tuple'>\n",
            "(1, 2, 3, 4, 5, (7, 8, 9, 10), 'Python')\n",
            "(1, 2, 3, 4, 5, [1, 2, 3, 4, 'python'], [1, 2, 3, 4, 5])\n"
          ]
        }
      ]
    },
    {
      "cell_type": "code",
      "source": [
        "# Accessing values from tuples\n",
        "tup = (10,20, 'abc', '#', True , False , 3.14)\n",
        "print(tup[1])\n",
        "print(tup[-3])\n",
        "print(tup[4])\n",
        "print(tup[:5])\n",
        "\n"
      ],
      "metadata": {
        "colab": {
          "base_uri": "https://localhost:8080/"
        },
        "id": "j-T1Kxs6ZIYs",
        "outputId": "b6ead242-e30f-4e83-94c6-f89b89bda7b1"
      },
      "execution_count": 10,
      "outputs": [
        {
          "output_type": "stream",
          "name": "stdout",
          "text": [
            "20\n",
            "True\n",
            "True\n",
            "(10, 20, 'abc', '#', True)\n"
          ]
        }
      ]
    },
    {
      "cell_type": "code",
      "source": [
        "#Updating the tuples :- (Imutability get typeError)\n",
        "tup[1] = \"python\"\n",
        "print(tup)"
      ],
      "metadata": {
        "colab": {
          "base_uri": "https://localhost:8080/",
          "height": 211
        },
        "id": "UPwz6KiJdJ1A",
        "outputId": "76b8cfcd-f715-4a89-d098-5386900a6442"
      },
      "execution_count": 11,
      "outputs": [
        {
          "output_type": "error",
          "ename": "TypeError",
          "evalue": "'tuple' object does not support item assignment",
          "traceback": [
            "\u001b[0;31m---------------------------------------------------------------------------\u001b[0m",
            "\u001b[0;31mTypeError\u001b[0m                                 Traceback (most recent call last)",
            "\u001b[0;32m<ipython-input-11-9ffc106dc522>\u001b[0m in \u001b[0;36m<cell line: 2>\u001b[0;34m()\u001b[0m\n\u001b[1;32m      1\u001b[0m \u001b[0;31m#Updating the tuples :- (Imutability get typeError)\u001b[0m\u001b[0;34m\u001b[0m\u001b[0;34m\u001b[0m\u001b[0m\n\u001b[0;32m----> 2\u001b[0;31m \u001b[0mtup\u001b[0m\u001b[0;34m[\u001b[0m\u001b[0;36m1\u001b[0m\u001b[0;34m]\u001b[0m \u001b[0;34m=\u001b[0m \u001b[0;34m\"python\"\u001b[0m\u001b[0;34m\u001b[0m\u001b[0;34m\u001b[0m\u001b[0m\n\u001b[0m\u001b[1;32m      3\u001b[0m \u001b[0mprint\u001b[0m\u001b[0;34m(\u001b[0m\u001b[0mtup\u001b[0m\u001b[0;34m)\u001b[0m\u001b[0;34m\u001b[0m\u001b[0;34m\u001b[0m\u001b[0m\n",
            "\u001b[0;31mTypeError\u001b[0m: 'tuple' object does not support item assignment"
          ]
        }
      ]
    },
    {
      "cell_type": "code",
      "source": [
        "#Deleting the tuples\n",
        "\n",
        "t12 = (1,2,3,4,5)\n",
        "print(t12)\n",
        "del t12\n",
        "print(t12)"
      ],
      "metadata": {
        "colab": {
          "base_uri": "https://localhost:8080/",
          "height": 228
        },
        "id": "dHkDyswyf0gD",
        "outputId": "7d22b601-f5f2-4d1b-ecd6-09eb49b0c1ea"
      },
      "execution_count": 18,
      "outputs": [
        {
          "output_type": "stream",
          "name": "stdout",
          "text": [
            "(1, 2, 3, 4, 5)\n"
          ]
        },
        {
          "output_type": "error",
          "ename": "NameError",
          "evalue": "name 't12' is not defined",
          "traceback": [
            "\u001b[0;31m---------------------------------------------------------------------------\u001b[0m",
            "\u001b[0;31mNameError\u001b[0m                                 Traceback (most recent call last)",
            "\u001b[0;32m<ipython-input-18-0a1380ee95fe>\u001b[0m in \u001b[0;36m<cell line: 6>\u001b[0;34m()\u001b[0m\n\u001b[1;32m      4\u001b[0m \u001b[0mprint\u001b[0m\u001b[0;34m(\u001b[0m\u001b[0mt12\u001b[0m\u001b[0;34m)\u001b[0m\u001b[0;34m\u001b[0m\u001b[0;34m\u001b[0m\u001b[0m\n\u001b[1;32m      5\u001b[0m \u001b[0;32mdel\u001b[0m \u001b[0mt12\u001b[0m\u001b[0;34m\u001b[0m\u001b[0;34m\u001b[0m\u001b[0m\n\u001b[0;32m----> 6\u001b[0;31m \u001b[0mprint\u001b[0m\u001b[0;34m(\u001b[0m\u001b[0mt12\u001b[0m\u001b[0;34m)\u001b[0m\u001b[0;34m\u001b[0m\u001b[0;34m\u001b[0m\u001b[0m\n\u001b[0m",
            "\u001b[0;31mNameError\u001b[0m: name 't12' is not defined"
          ]
        }
      ]
    },
    {
      "cell_type": "code",
      "source": [
        "#Updating the tuple by using list\n",
        "tupl1 = (1,2,3,4,5)\n",
        "list1 = list(tupl1)\n",
        "print(list1)\n",
        "list1[0] = 10\n",
        "print(list1)\n",
        "tuples = tuple(list1)\n",
        "print(tuples)\n",
        "\n"
      ],
      "metadata": {
        "colab": {
          "base_uri": "https://localhost:8080/"
        },
        "id": "S5whuOcOdw0P",
        "outputId": "c8202705-c2a4-4ea5-8e04-c338d43f3e8e"
      },
      "execution_count": 20,
      "outputs": [
        {
          "output_type": "stream",
          "name": "stdout",
          "text": [
            "[1, 2, 3, 4, 5]\n",
            "[10, 2, 3, 4, 5]\n",
            "(10, 2, 3, 4, 5)\n"
          ]
        }
      ]
    },
    {
      "cell_type": "code",
      "source": [
        "#Basic Tuples Operations:-\n",
        "# 1) Concatenation\n",
        "\n",
        "t1 = (10,20,30)\n",
        "t2 = (40,50,60)\n",
        "t3 = t1+t2\n",
        "print(t3)\n",
        "\n",
        "# Repetion Operation:-\n",
        "\n",
        "\n",
        "tu1 = (1,2,3,4,5)\n",
        "print(tu1*5)\n",
        "\n",
        "#Membership Operator\n",
        "tup1 = (1,12,3,4,5,6)\n",
        "print(12 in tup1)\n",
        "print(12 not in tup1)"
      ],
      "metadata": {
        "colab": {
          "base_uri": "https://localhost:8080/"
        },
        "id": "0OxnUflQGFVk",
        "outputId": "e50d363d-0855-4884-a6e2-8745d41305d0"
      },
      "execution_count": 3,
      "outputs": [
        {
          "output_type": "stream",
          "name": "stdout",
          "text": [
            "(10, 20, 30, 40, 50, 60)\n",
            "(1, 2, 3, 4, 5, 1, 2, 3, 4, 5, 1, 2, 3, 4, 5, 1, 2, 3, 4, 5, 1, 2, 3, 4, 5)\n",
            "True\n",
            "False\n"
          ]
        }
      ]
    },
    {
      "cell_type": "code",
      "source": [
        "# Traversing the tuple:-\n",
        "tup12 = (1,2,3,4,5,6,7,8,9,10)\n",
        "print(tup12)\n",
        "for i in tup12:\n",
        "  print(i)"
      ],
      "metadata": {
        "colab": {
          "base_uri": "https://localhost:8080/"
        },
        "id": "GHVj6SSNHf-L",
        "outputId": "cca03a31-baf4-456a-d1c7-b17ece99709c"
      },
      "execution_count": 14,
      "outputs": [
        {
          "output_type": "stream",
          "name": "stdout",
          "text": [
            "(1, 2, 3, 4, 5, 6, 7, 8, 9, 10)\n",
            "1\n",
            "2\n",
            "3\n",
            "4\n",
            "5\n",
            "6\n",
            "7\n",
            "8\n",
            "9\n",
            "10\n"
          ]
        }
      ]
    },
    {
      "cell_type": "code",
      "source": [
        "# Built in functions:-\n",
        "\n",
        "tuples1 = (1,2,3,4,5,6,7,8,9,10)\n",
        "print(min(tuples1))\n",
        "print(max(tuples1))\n",
        "print(tuples1.count(2))\n",
        "print(sum(tuples1))\n",
        "print(len(tuples1))"
      ],
      "metadata": {
        "colab": {
          "base_uri": "https://localhost:8080/"
        },
        "id": "pGqFFoHMJQl3",
        "outputId": "9da1986b-fe9e-4265-b11e-e625ab99a1a5"
      },
      "execution_count": 16,
      "outputs": [
        {
          "output_type": "stream",
          "name": "stdout",
          "text": [
            "1\n",
            "10\n",
            "1\n",
            "55\n",
            "10\n"
          ]
        }
      ]
    },
    {
      "cell_type": "code",
      "source": [
        "t1 = (1,2,3)\n",
        "t2 = ('A' , 'B' , 'C')\n",
        "t3 = zip(t1 , t2)\n",
        "print(list(t3))\n",
        "print(tuple(t3))\n",
        "\n",
        "tup11 = (1,2,3,4,5,6)\n",
        "print(tup11[::-1])"
      ],
      "metadata": {
        "colab": {
          "base_uri": "https://localhost:8080/"
        },
        "id": "4NCa3-w4Ktsc",
        "outputId": "ae638ab0-961e-48ef-a3c9-be4cd2b59a10"
      },
      "execution_count": 20,
      "outputs": [
        {
          "output_type": "stream",
          "name": "stdout",
          "text": [
            "[(1, 'A'), (2, 'B'), (3, 'C')]\n",
            "()\n",
            "(6, 5, 4, 3, 2, 1)\n"
          ]
        }
      ]
    }
  ]
}