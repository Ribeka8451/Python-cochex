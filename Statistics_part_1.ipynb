{
  "nbformat": 4,
  "nbformat_minor": 0,
  "metadata": {
    "colab": {
      "provenance": [],
      "authorship_tag": "ABX9TyPG7kyYQPgdS6e4lC5DVmMk",
      "include_colab_link": true
    },
    "kernelspec": {
      "name": "python3",
      "display_name": "Python 3"
    },
    "language_info": {
      "name": "python"
    }
  },
  "cells": [
    {
      "cell_type": "markdown",
      "metadata": {
        "id": "view-in-github",
        "colab_type": "text"
      },
      "source": [
        "<a href=\"https://colab.research.google.com/github/Ribeka8451/Python-cochex/blob/Master/Statistics_part_1.ipynb\" target=\"_parent\"><img src=\"https://colab.research.google.com/assets/colab-badge.svg\" alt=\"Open In Colab\"/></a>"
      ]
    },
    {
      "cell_type": "code",
      "execution_count": 6,
      "metadata": {
        "colab": {
          "base_uri": "https://localhost:8080/"
        },
        "id": "9Ivy4wANppRi",
        "outputId": "b7470c7c-793c-4bbc-953f-62a502599b98"
      },
      "outputs": [
        {
          "output_type": "stream",
          "name": "stdout",
          "text": [
            "Range of the data: 29\n",
            "Mean of the data: 10.357142857142858\n",
            "Mode of the data: 1\n",
            "Median of the data: 7.5\n",
            "IQR: 12.0\n"
          ]
        }
      ],
      "source": [
        "# What is Statistics?\n",
        "\n",
        "# Science of\n",
        "#   Collection\n",
        "#   Analyzing/ (Inspecting)\n",
        "#   Calculation\n",
        "#   Cleaning\n",
        "#   Manipulation\n",
        "#   Interpreting\n",
        "#   Conclusion of Data\n",
        "\n",
        "# When we combine all the factors aforementioned it will give us the meaningful insights of the data\n",
        "# to take the better decesion about the business problems\n",
        "\n",
        "\n",
        "# Roles of Statistics in DA/DS:\n",
        "# DA/BA:\n",
        "\n",
        "# 1) Data Exploration :\n",
        "# 2) Data Cleaning :\n",
        "# 3) Data Transformation :\n",
        "# 4) Data Visualization :\n",
        "# 5) Finding the similarity/ Dissimilarity\n",
        "# 6) Hypothesis testing\n",
        "# 7) Model Selection\n",
        "# 8) Model Evaluation\n",
        "# 9) Probability Estimation / Distribution\n",
        "\n",
        "\n",
        "# Types of Statistics\n",
        "\n",
        "# 1. Descriptive Statistics :\n",
        "\n",
        "# a) Measure of Frequency\n",
        "# b) Measure of Central tendency\n",
        "# Mean\n",
        "# Median\n",
        "# Mode\n",
        "\n",
        "# Measure of Dispersion\n",
        "# Range\n",
        "# InterQuartile Range\n",
        "# Standard Deviation\n",
        "# Variance\n",
        "\n",
        "# 2) Inferential Statistics :\n",
        "\n",
        "\n",
        "# 1) Hypothesis testing\n",
        "# a) parametric\n",
        "# b) Non-Paramteric\n",
        "# 2) Parameter Estimation\n",
        "# a) Point Estimate\n",
        "# b) Interval Estimate\n",
        "\n",
        "# 1) Descriptive Statistics :\n",
        "# 1) Measure of Frequency :\n",
        "#  It tells you how oftenly something happen\n",
        "# Relative frequency = nos of time a value in a data / Total Nos of Value\n",
        "\n",
        "\n",
        "#2) Measure of Central Tendency:\\n\",\n",
        "#a) Mean\n",
        "#  Average of xbar = Sum of all the observation / Total Number of Observation\n",
        "#b) Median\n",
        "#c) Mode\n",
        "\n",
        "\n",
        "# Measure of Dispersion:\n",
        "# Dispersion is the extent to which values in a distribution differ from the average of the distribution\n",
        "# Range : - The difference between largest value and smallest value\n",
        "\n",
        "\n",
        "# import libraries as alias\n",
        "import statistics as st\n",
        "\n",
        "\n",
        "data = [1, 2, 3, 4, 5, 6, 7, 8, 9, 12, 15, 18, 25, 30]\n",
        "range = max(data) - min(data)\n",
        "print(\"Range of the data:\", range)\n",
        "mean = st.mean(data)\n",
        "print(\"Mean of the data:\", mean)\n",
        "mode = st.mode(data)\n",
        "print(\"Mode of the data:\", mode)\n",
        "median = st.median(data)\n",
        "print(\"Median of the data:\", median)\n",
        "q = st.quantiles(data)\n",
        "IQR = q[2] - q[0]\n",
        "print(\"IQR:\", IQR)\n",
        "\n",
        "\n",
        "\n",
        "#What is mean by Standard Deviation ?\n",
        "# it is a measure of How much the data value is deviating from the mean value\"\n",
        "\n",
        "\n",
        "\n",
        "\n",
        "\n",
        "\n",
        "\n",
        "\n",
        "\n",
        "\n",
        "\n",
        "\n",
        "\n",
        "\n",
        "\n",
        "\n"
      ]
    }
  ]
}