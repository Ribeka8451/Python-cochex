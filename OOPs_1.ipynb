{
  "nbformat": 4,
  "nbformat_minor": 0,
  "metadata": {
    "colab": {
      "provenance": [],
      "authorship_tag": "ABX9TyNuLbzDlt5I00QRK9v0Z+GA",
      "include_colab_link": true
    },
    "kernelspec": {
      "name": "python3",
      "display_name": "Python 3"
    },
    "language_info": {
      "name": "python"
    }
  },
  "cells": [
    {
      "cell_type": "markdown",
      "metadata": {
        "id": "view-in-github",
        "colab_type": "text"
      },
      "source": [
        "<a href=\"https://colab.research.google.com/github/Ribeka8451/Python-cochex/blob/Master/OOPs_1.ipynb\" target=\"_parent\"><img src=\"https://colab.research.google.com/assets/colab-badge.svg\" alt=\"Open In Colab\"/></a>"
      ]
    },
    {
      "cell_type": "code",
      "execution_count": 3,
      "metadata": {
        "colab": {
          "base_uri": "https://localhost:8080/"
        },
        "id": "bHYsE9AojfZ2",
        "outputId": "a5c245ba-f842-4179-8a44-68cba136e4b9"
      },
      "outputs": [
        {
          "output_type": "stream",
          "name": "stdout",
          "text": [
            "<__main__.Car object at 0x785a55246ad0>\n",
            "The name of the car is BMW and price is 7000000\n",
            "None\n",
            "The name of the Employee is Manoj and age is 28\n"
          ]
        }
      ],
      "source": [
        "# What is OOPs?\n",
        "\n",
        "# Object-Oriented Programming:\n",
        "\n",
        "# Pillars of OOPs:\n",
        "# 1) Class / Objects\n",
        "# 2) Inheritance\n",
        "# 3) Polymorphism\n",
        "# 4) Encapsulation\n",
        "\n",
        "# Collection of an Objects  , Methods(functions) , code  collection\n",
        "# Objects :- Blueprint of class or instance of class\n",
        "\n",
        "\n",
        "# Syntax of class:\n",
        "# class ClassName:\n",
        "#   statements1\n",
        "#   stattement2\n",
        "#   statements3\n",
        "\n",
        "\n",
        "#Class Creation\n",
        "class Car:\n",
        " def __init__(self , modelName , price):\n",
        "  self.modelName = modelName\n",
        "  self.price = price\n",
        " def display(self):\n",
        "  print(f\"The name of the car is {self.modelName} and price is {self.price}\")\n",
        "\n",
        "#object Creation\n",
        "# obj_name = ClassName()\n",
        "\n",
        "my_car = Car(\"BMW\" ,7000000)\n",
        "print(my_car)\n",
        "print(my_car.display())\n",
        "\n",
        "\n",
        "\n",
        "\n",
        "\n",
        "# Employee Creation\n",
        "class Employee:\n",
        "\n",
        "   def __init__(self, employeename , age):\n",
        "    self.employeename = employeename\n",
        "    self.age = age\n",
        "\n",
        "# function\n",
        "   def display(self):\n",
        "\n",
        "     print(f\"The name of the Employee is {self.employeename} and age is {self.age}\")\n",
        "\n",
        "# object creation\n",
        "Employee_name = Employee (\"Manoj\", 28)\n",
        "Employee_name.display()\n"
      ]
    },
    {
      "cell_type": "code",
      "source": [
        "def fib(n):\n",
        "  if n ==0 or n==1 :\n",
        "    return n\n",
        "  else:\n",
        "    return fib(n-1) + fib(n-2)"
      ],
      "metadata": {
        "id": "zJncybbl2pu-"
      },
      "execution_count": null,
      "outputs": []
    },
    {
      "cell_type": "code",
      "source": [
        "class Movies:\n",
        "\n",
        " def Sorting_Operations(self):\n",
        "  freinds = [\"Harry Potter\" ,\"Hermione Granger\" , \"Ron Weasley\" ,\"Draco Malfoy\"]\n",
        "  sorted_freinds = sorted(freinds ,key = lambda x : len(x))\n",
        "\n",
        "  print(\"\\n==== Sorted Freinds by the Name Length ====\")\n",
        "  for freind in sorted_freinds:\n",
        "     print(f\"{freind} ({len(freind)})\")\n",
        "\n",
        " def Filering(self):\n",
        "    freinds = [\"Harry Potter\" ,\"Hermione Granger\" , \"Ron Weasley\" ,\"Draco Malfoy\"]\n",
        "    filtered_freinds = list(filter(\n",
        "                lambda x : x.startswith('H') ,\n",
        "                freinds\n",
        "    ))\n",
        "\n",
        "    print(\"\\n ==== Freinds  Names Starting with 'H' \")\n",
        "    for freind in filtered_freinds:\n",
        "      print(freind)\n",
        "\n",
        "M = Movies()\n",
        "M.Sorting_Operations()\n",
        "M.Filering()\n"
      ],
      "metadata": {
        "colab": {
          "base_uri": "https://localhost:8080/"
        },
        "id": "L_3MF2B5q8UY",
        "outputId": "e51a1853-e212-4394-cd13-61e5671c949a"
      },
      "execution_count": null,
      "outputs": [
        {
          "output_type": "stream",
          "name": "stdout",
          "text": [
            "\n",
            "==== Sorted Freinds by the Name Length ====\n",
            "Ron Weasley (11)\n",
            "Harry Potter (12)\n",
            "Draco Malfoy (12)\n",
            "Hermione Granger (16)\n",
            "\n",
            " ==== Freinds  Names Starting with 'H' \n",
            "Harry Potter\n",
            "Hermione Granger\n"
          ]
        }
      ]
    }
  ]
}