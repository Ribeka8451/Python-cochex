{
  "nbformat": 4,
  "nbformat_minor": 0,
  "metadata": {
    "colab": {
      "provenance": [],
      "authorship_tag": "ABX9TyMt07U9wHBCom0IUbP84CX9",
      "include_colab_link": true
    },
    "kernelspec": {
      "name": "python3",
      "display_name": "Python 3"
    },
    "language_info": {
      "name": "python"
    }
  },
  "cells": [
    {
      "cell_type": "markdown",
      "metadata": {
        "id": "view-in-github",
        "colab_type": "text"
      },
      "source": [
        "<a href=\"https://colab.research.google.com/github/Ribeka8451/Python-cochex/blob/Master/Functions(Part_1).ipynb\" target=\"_parent\"><img src=\"https://colab.research.google.com/assets/colab-badge.svg\" alt=\"Open In Colab\"/></a>"
      ]
    },
    {
      "cell_type": "code",
      "execution_count": null,
      "metadata": {
        "id": "Jd_cggKNHGxg"
      },
      "outputs": [],
      "source": [
        "#  What is functions?\n",
        "#  Function is block of oraganised and reusable code that is used to perform single task or multiple task\n",
        "\n",
        "\n",
        "#  Types of Functions:-\n",
        "#  Built-In Functions:-\n",
        "#  Print()\n",
        "#  int()\n",
        "#  str()\n",
        "#  float()\n",
        "#  complex()\n",
        "#  bool()\n",
        "#  add()\n",
        "#  update()\n",
        "#  insert()\n",
        "#  pop()\n",
        "#  popitem()\n",
        "#  len()\n",
        "\n",
        "# User-Defined Functions:-\n",
        "\n",
        "# Using of the Functions :--\n",
        "# Defining functions\n",
        "# is a block where the statements inside the function body are written\n",
        "\n",
        "# we use the keyword called def keyword\n",
        "# Calling functions\n",
        "# Whatever functionality you want too see function calling is must\n",
        "# Function_name()\n",
        "\n",
        "\n"
      ]
    },
    {
      "cell_type": "code",
      "source": [
        "# Defining the function\n",
        "\n",
        "def myFunction():\n",
        "  print(myFunction(\"hello this is my function\"))\n",
        "\n",
        "# Calling the function\n",
        "\n",
        "# return statements return some value from the function and it stop the execution of the functions\n",
        "# So return can be used only once\n",
        "\n",
        "def otherfunction():\n",
        "  strs = \"this print a passed function\"\n",
        "  return strs\n"
      ],
      "metadata": {
        "id": "jxyObgz-rxZA"
      },
      "execution_count": 3,
      "outputs": []
    },
    {
      "cell_type": "code",
      "source": [
        "# Parameters and Arguments:---\n",
        "\n",
        "# Arguments--------At the time of calling function its Arguments\n",
        "\n",
        "# Parameters -----creating or defining the function its parameter\n",
        "\n",
        "# x - Parameter\n",
        "def cube(x,y):\n",
        "  return x*x*x + y\n",
        "\n",
        "# 3 - Arguments\n",
        "res = cube(3, 4)\n",
        "print(\"Cube of nos:\", res)\n",
        "\n",
        "name = \"Krati\"\n",
        "def myName(name):\n",
        "  return name\n",
        "\n",
        "myName(\"Krati\")"
      ],
      "metadata": {
        "colab": {
          "base_uri": "https://localhost:8080/",
          "height": 52
        },
        "id": "tnrpYloSwxAz",
        "outputId": "99a8b102-d950-4e0a-b42e-6dc36ceaf542"
      },
      "execution_count": 8,
      "outputs": [
        {
          "output_type": "stream",
          "name": "stdout",
          "text": [
            "Cube of nos: 31\n"
          ]
        },
        {
          "output_type": "execute_result",
          "data": {
            "text/plain": [
              "'Krati'"
            ],
            "application/vnd.google.colaboratory.intrinsic+json": {
              "type": "string"
            }
          },
          "metadata": {},
          "execution_count": 8
        }
      ]
    },
    {
      "cell_type": "code",
      "source": [
        "# Write a program to find the third largest among the three numbers\n",
        "\n"
      ],
      "metadata": {
        "id": "yG5WhSeGz8B-"
      },
      "execution_count": null,
      "outputs": []
    },
    {
      "cell_type": "code",
      "source": [],
      "metadata": {
        "id": "Mmmjq1nl0Huf"
      },
      "execution_count": null,
      "outputs": []
    }
  ]
}