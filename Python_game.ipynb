{
  "nbformat": 4,
  "nbformat_minor": 0,
  "metadata": {
    "colab": {
      "provenance": [],
      "authorship_tag": "ABX9TyMot13r2nYfJF0TfQoA5zIg",
      "include_colab_link": true
    },
    "kernelspec": {
      "name": "python3",
      "display_name": "Python 3"
    },
    "language_info": {
      "name": "python"
    }
  },
  "cells": [
    {
      "cell_type": "markdown",
      "metadata": {
        "id": "view-in-github",
        "colab_type": "text"
      },
      "source": [
        "<a href=\"https://colab.research.google.com/github/Ribeka8451/Python-cochex/blob/Master/Python_game.ipynb\" target=\"_parent\"><img src=\"https://colab.research.google.com/assets/colab-badge.svg\" alt=\"Open In Colab\"/></a>"
      ]
    },
    {
      "cell_type": "code",
      "execution_count": 11,
      "metadata": {
        "colab": {
          "base_uri": "https://localhost:8080/"
        },
        "id": "N-1G_4IejN7k",
        "outputId": "99412322-ba54-496d-c6b8-daa3460b69f1"
      },
      "outputs": [
        {
          "output_type": "stream",
          "name": "stdout",
          "text": [
            "Let's play a game of Rock, Paper and Scissors:\n",
            "Rock = 1\n",
            " Paper = 2\n",
            " Scissors = 3 \n",
            " Make a Move:1\n",
            "1...\n",
            "2...\n",
            "3...\n",
            "Computer throw Rock\n",
            "Tie game:\n",
            "Would you like to play again ? y/n:y\n",
            "Rock = 1\n",
            " Paper = 2\n",
            " Scissors = 3 \n",
            " Make a Move:2\n",
            "1...\n",
            "2...\n",
            "3...\n",
            "Computer throw Paper\n",
            "Tie game:\n",
            "Would you like to play again ? y/n:n\n",
            "Thank you very much for playing our game: see you next time\n",
            "High Scores:\n",
            "Player Scores : 0\n",
            "Computer Scores: 0\n"
          ]
        }
      ],
      "source": [
        "# importing the modules\n",
        "\n",
        "import random\n",
        "import time\n",
        "\n",
        "# Variables Intialization\n",
        "rock = 1\n",
        "paper = 2\n",
        "scissors = 3\n",
        "\n",
        "name = {rock:\"Rock\", paper:\"Paper\", scissors:\"Scissors\"}\n",
        "rule = {rock:scissors , paper:rock , scissors:paper}\n",
        "\n",
        "player_score = 0\n",
        "computer_score = 0\n",
        "\n",
        "# starting point of my program or game:\n",
        "def start():\n",
        "  print(\"Let's play a game of Rock, Paper and Scissors:\")\n",
        "  while game():\n",
        "    pass\n",
        "  scores()\n",
        "\n",
        "\n",
        "def game():\n",
        "  player = move()\n",
        "  computer = random.randint(1,3)\n",
        "  result(player, computer)\n",
        "  return play_again()\n",
        "\n",
        "\n",
        "def move():\n",
        "  while True:\n",
        "    player = input(\"Rock = 1\\n Paper = 2\\n Scissors = 3 \\n Make a Move:\")\n",
        "    try:\n",
        "      player = int(player)\n",
        "      if player in (1,2,3):\n",
        "        return player\n",
        "    except ValueError:\n",
        "      pass\n",
        "    print(\"OOPs! I didn't understand that.Please enter 1, 2 or 3\")\n",
        "\n",
        "def result(player , computer):\n",
        "  print(\"1...\")\n",
        "  time.sleep(1)\n",
        "  print(\"2...\")\n",
        "  time.sleep(1)\n",
        "  print(\"3...\")\n",
        "  time.sleep(1)\n",
        "  print(\"Computer throw {0}\". format(name[computer]))\n",
        "  global player_score , computer_score\n",
        "  if player == computer:\n",
        "    print(\"Tie game:\")\n",
        "  else:\n",
        "    if rule[player]== computer:\n",
        "     print(\"You Winn:\")\n",
        "     player_score +=1\n",
        "    else:\n",
        "      print(\"The computer laughts at you realise you have been defeated:\")\n",
        "      computer_score +=1\n",
        "\n",
        "def play_again():\n",
        "  answer = input(\"Would you like to play again ? y/n:\")\n",
        "  if answer in (\"y\", \"yes\", \"Yes\",\"of course\",\"Y\",\"YES\"):\n",
        "    return answer\n",
        "  else:\n",
        "    print(\"Thank you very much for playing our game: see you next time\")\n",
        "\n",
        "\n",
        "def scores():\n",
        "  global player_score , computer_score\n",
        "  print(\"High Scores:\")\n",
        "  print(\"Player Scores :\", player_score)\n",
        "  print(\"Computer Scores:\", computer_score)\n",
        "\n",
        "if __name__ ==\"__main__\":\n",
        "  start()\n"
      ]
    }
  ]
}