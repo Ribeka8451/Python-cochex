{
  "cells": [
    {
      "cell_type": "markdown",
      "metadata": {
        "id": "view-in-github",
        "colab_type": "text"
      },
      "source": [
        "<a href=\"https://colab.research.google.com/github/Ribeka8451/Python-cochex/blob/Master/Strings_2.ipynb\" target=\"_parent\"><img src=\"https://colab.research.google.com/assets/colab-badge.svg\" alt=\"Open In Colab\"/></a>"
      ]
    },
    {
      "cell_type": "code",
      "execution_count": null,
      "metadata": {
        "colab": {
          "base_uri": "https://localhost:8080/"
        },
        "id": "3oTLucOSPI2_",
        "outputId": "ddd51526-62af-4d0c-cd34-8a00a836170a"
      },
      "outputs": [
        {
          "name": "stdout",
          "output_type": "stream",
          "text": [
            "This is printed in \n",
            " in two lines\n",
            "This is printed in \tin in two lines\n",
            "This is printed in\bin in two lines\n",
            "This is printed in \u0007 in two lines\n",
            "This is HEX representation\n",
            "This is \u0010 representation\n",
            "0xff\n",
            "0x64\n"
          ]
        }
      ],
      "source": [
        "#Escape Characters:--\n",
        "#\\n - newline\n",
        "#\\b - backspace\n",
        "#\\t - tab\n",
        "#\\a - alert\n",
        "#\\xh.. :- hexvalue\n",
        "#\\e - escape\n",
        "\n",
        "print(\"This is printed in \\n in two lines\")\n",
        "print(\"This is printed in \\tin in two lines\")\n",
        "print(\"This is printed in\\bin in two lines\")\n",
        "print(\"This is printed in \\a in two lines\")\n",
        "\n",
        "print(\"This is \\x48\\x45\\x58 representation\")\n",
        "print(\"This is \\x10 representation\")\n",
        "\n",
        "print(hex(255))\n",
        "\n",
        "print(hex(100))"
      ]
    },
    {
      "cell_type": "code",
      "execution_count": null,
      "metadata": {
        "colab": {
          "base_uri": "https://localhost:8080/"
        },
        "id": "4nWfmr3VVyve",
        "outputId": "1b2b2a7c-9382-4d98-df7d-a6a3d27740a2"
      },
      "outputs": [
        {
          "name": "stdout",
          "output_type": "stream",
          "text": [
            "hello Python\n",
            "hello Python\n"
          ]
        }
      ],
      "source": [
        "# String special Operators:-\n",
        "\n",
        "\n",
        "# + :- Concatenation\\n\",\n",
        "# \"\\n\",\n",
        "# \"# * :- Repetition\\n\",\n",
        "# \"# [] :- Slicing / indexing\\n\",\n",
        "# \"\\n\",\n",
        "# \"# [:] :- Range of Slices\\n\",\n",
        "# \"\\n\",\n",
        "# \"# in :- Membership Operator\\n\",\n",
        "# \"\\n\",\n",
        "# \"# not in :- Membership Operator\\n\",\n",
        "# \"\\n\",\n",
        "# \"# % :- Formatting Operators( String Formatting)\\n\", \"\\n\"\n",
        "\n",
        "\n",
        "\n",
        "# + :- Concatenation\n",
        "a = \"hello \"\n",
        "b = \"Python\"\n",
        "c = a+b\n",
        "print(c)\n",
        "print(a+b)\n"
      ]
    },
    {
      "cell_type": "code",
      "execution_count": null,
      "metadata": {
        "colab": {
          "base_uri": "https://localhost:8080/"
        },
        "id": "9_87TTh4Xa2l",
        "outputId": "a398c5aa-f7f3-4cdd-f196-672947fb1707"
      },
      "outputs": [
        {
          "name": "stdout",
          "output_type": "stream",
          "text": [
            "Python Python Python Python \n"
          ]
        }
      ],
      "source": [
        "# * :- Repetition\n",
        "\n",
        "b = \"Python \"\n",
        "print(b*4)"
      ]
    },
    {
      "cell_type": "code",
      "execution_count": null,
      "metadata": {
        "colab": {
          "base_uri": "https://localhost:8080/"
        },
        "id": "vMjwVkRXXv2U",
        "outputId": "4d1cbd91-5877-4324-be03-c4c81ce47523"
      },
      "outputs": [
        {
          "name": "stdout",
          "output_type": "stream",
          "text": [
            "True\n",
            "False\n",
            "True\n",
            "False\n"
          ]
        }
      ],
      "source": [
        "# in :- Membership Operators:-\n",
        "\n",
        "str1 = \"Hello\"\n",
        "print(\"H\" in str1)\n",
        "print(\"h\" in str1)\n",
        "\n",
        "# not in :-- membership operator\n",
        "print(\"h\" not in str1)\n",
        "print(\"H\" not in str1)\n",
        "\n"
      ]
    },
    {
      "cell_type": "code",
      "execution_count": null,
      "metadata": {
        "colab": {
          "base_uri": "https://localhost:8080/"
        },
        "id": "nN12lTBwanNF",
        "outputId": "ddf9b5ae-4c62-4427-b197-d59bca7b8c09"
      },
      "outputs": [
        {
          "name": "stdout",
          "output_type": "stream",
          "text": [
            "My name is Vipul and age is 24\n",
            "My name is 24 and age is Vipul\n",
            "The name Raman starts with letter - R and H \n"
          ]
        }
      ],
      "source": [
        "# % Formatting Oprators(String Formatting)\n",
        "\n",
        "# % :-- string\n",
        "# %d/ or %i :-- integer\n",
        "#%c :- character\n",
        "\n",
        "print(\"My name is %s and age is %d\" %(\"Vipul\" ,24))\n",
        "print(\"My name is %d and age is %s\" %(24, \"Vipul\"))\n",
        "\n",
        "val = 'R'\n",
        "val2 = 'H'\n",
        "print(\"The name Raman starts with letter - %c and %c \"%(val, val2))"
      ]
    },
    {
      "cell_type": "code",
      "execution_count": 12,
      "metadata": {
        "colab": {
          "base_uri": "https://localhost:8080/"
        },
        "id": "WGON-VAlc5lO",
        "outputId": "36025845-6648-41db-fcf7-c4a6f4388f71"
      },
      "outputs": [
        {
          "output_type": "stream",
          "name": "stdout",
          "text": [
            "Python programming\n",
            "&&&&&&&&&&&python programming&&&&&&&&&&&\n",
            "2\n",
            "<enumerate object at 0x7bfc0beb10c0>\n",
            "[(1, 'Orange'), (2, 'Mango'), (3, 'Banana')]\n",
            "True\n",
            "True\n",
            "nohtyp\n"
          ]
        }
      ],
      "source": [
        "#Built-in string method:--\n",
        "\n",
        "s1 = \"python programming\"\n",
        "print(s1.capitalize())\n",
        "\n",
        "\n",
        "\n",
        "print(s1.center(40 , '&'))\n",
        "\n",
        "print(s1.count('o'))\n",
        "\n",
        "s2 = [\"Orange\", \"Mango\", \"Banana\"]\n",
        "s3 = enumerate (s2, 1)\n",
        "print(s3)\n",
        "print(list(s3))\n",
        "\n",
        "\n",
        "#isalnum()\n",
        "#isalpha()\n",
        "#isdigit()\n",
        "#islower()\n",
        "#isnumeric()\n",
        "#istitle()\n",
        "#isupper()\n",
        "\n",
        "s3 = \"python\"\n",
        "print(s3.isalnum())\n",
        "print(s3.isalpha())\n",
        "\n",
        "str1 = \"python\"\n",
        "print(str1 [::-1])\n",
        "\n"
      ]
    },
    {
      "cell_type": "code",
      "source": [
        "# sample string:- 'abc', 'xyc'\n",
        "# output string:- 'xyc abz'\n",
        "\n",
        "str1 = input(\"Enter first string\")\n",
        "str2 = input(\"Enter second string\")\n",
        "new_str1 = str2[:2] + str1[2:]\n",
        "new_str2 = str1[:2] + str2[2:]\n",
        "new_str = new_str1 + new_str2\n",
        "print(\"The new string after swapping the first two character of both string is\", (new_str1 +' '+new_str2))\n",
        "print(\"The new string after swapping the first two character of both string is\", new_str )\n",
        "\n",
        "\n"
      ],
      "metadata": {
        "colab": {
          "base_uri": "https://localhost:8080/"
        },
        "id": "EhZo4znpLOnL",
        "outputId": "e94874fe-48dc-41f5-923f-40af17fcc149"
      },
      "execution_count": 14,
      "outputs": [
        {
          "output_type": "stream",
          "name": "stdout",
          "text": [
            "Enter first stringabc\n",
            "Enter second stringxyc\n",
            "The new string after swapping the first two character of both string is xyc abc\n",
            "The new string after swapping the first two character of both string is xycabc\n"
          ]
        }
      ]
    }
  ],
  "metadata": {
    "colab": {
      "provenance": [],
      "authorship_tag": "ABX9TyOz+CgUujSvFzNKir7f3iaD",
      "include_colab_link": true
    },
    "kernelspec": {
      "display_name": "Python 3",
      "name": "python3"
    },
    "language_info": {
      "name": "python"
    }
  },
  "nbformat": 4,
  "nbformat_minor": 0
}