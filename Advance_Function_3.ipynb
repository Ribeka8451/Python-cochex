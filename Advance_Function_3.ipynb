{
  "nbformat": 4,
  "nbformat_minor": 0,
  "metadata": {
    "colab": {
      "provenance": [],
      "authorship_tag": "ABX9TyPblU9lUEalVCqmWy+iL3m1",
      "include_colab_link": true
    },
    "kernelspec": {
      "name": "python3",
      "display_name": "Python 3"
    },
    "language_info": {
      "name": "python"
    }
  },
  "cells": [
    {
      "cell_type": "markdown",
      "metadata": {
        "id": "view-in-github",
        "colab_type": "text"
      },
      "source": [
        "<a href=\"https://colab.research.google.com/github/Ribeka8451/Python-cochex/blob/Master/Advance_Function_3.ipynb\" target=\"_parent\"><img src=\"https://colab.research.google.com/assets/colab-badge.svg\" alt=\"Open In Colab\"/></a>"
      ]
    },
    {
      "cell_type": "code",
      "execution_count": 2,
      "metadata": {
        "colab": {
          "base_uri": "https://localhost:8080/"
        },
        "id": "zdu__4388rcA",
        "outputId": "f3d70048-c8ab-4c08-b38e-770dd7e80922"
      },
      "outputs": [
        {
          "output_type": "stream",
          "name": "stdout",
          "text": [
            "Hello Everyone\n",
            "Hello there Coachx\n",
            "Your batch no is 72 and second is : 76\n"
          ]
        }
      ],
      "source": [
        "# Anonymous Function / Lamda Function\n",
        "    # No Name. It is a special type of function without having the function name\n",
        "# Lamda function doesn't use the keyword or statement called def\n",
        "# inplace of the it use the lamda keyword\n",
        "\n",
        "# Syntax of lamnda function:-\n",
        "# lamnda argument(s) : expression\n",
        "\n",
        "\n",
        "greetings = lambda : print(\"Hello Everyone\")\n",
        "\n",
        "greetings()\n",
        "\n",
        "# lambda function with arguments and expression\n",
        "\n",
        "greet_user = lambda name : print(\"Hello there\", name)\n",
        "\n",
        "greet_user(\"Coachx\")\n",
        "\n",
        "\n",
        "batch_nos = lambda batch_no1, batch_no2 : print(\"Your batch no is\" , batch_no1 , \"and second is :\", batch_no2)\n",
        "\n",
        "batch_nos(72, 76)\n",
        "\n"
      ]
    },
    {
      "cell_type": "code",
      "source": [
        "# Perform the addition with the help of lambda function\n",
        "\n",
        "add = lambda x, y : x+y\n",
        "\n",
        "add(4, 5)\n",
        "\n",
        "add = lambda x, y : print(x+y , x-y , x*y , x/y)\n",
        "\n",
        "add(4, 5)\n",
        "\n"
      ],
      "metadata": {
        "colab": {
          "base_uri": "https://localhost:8080/"
        },
        "id": "Bs6-nJxxNSf4",
        "outputId": "10080cac-ede3-49eb-eab3-9084509d1133"
      },
      "execution_count": 4,
      "outputs": [
        {
          "output_type": "stream",
          "name": "stdout",
          "text": [
            "9 -1 20 0.8\n"
          ]
        }
      ]
    },
    {
      "cell_type": "code",
      "source": [
        "# Find the Square of a number using lambda\n",
        "\n",
        "sq = lambda x : x*x\n",
        "\n",
        "sq(5)"
      ],
      "metadata": {
        "colab": {
          "base_uri": "https://localhost:8080/"
        },
        "id": "e5gMt0NmOQDk",
        "outputId": "ab2a4ceb-4be3-43f0-b8ba-663c53f28004"
      },
      "execution_count": 6,
      "outputs": [
        {
          "output_type": "execute_result",
          "data": {
            "text/plain": [
              "25"
            ]
          },
          "metadata": {},
          "execution_count": 6
        }
      ]
    },
    {
      "cell_type": "code",
      "source": [
        "# Functional Programming tools:\n",
        "\n",
        "# filter()\n",
        "# Map()\n",
        "# reduce()"
      ],
      "metadata": {
        "id": "u3fK1VGPOpCp"
      },
      "execution_count": null,
      "outputs": []
    },
    {
      "cell_type": "code",
      "source": [
        "# use of lambda with filter()\n",
        "\n",
        "# syntax\n",
        "\n",
        "# filter (function, list)\n",
        "\n",
        "lst = [2,4,6,8,3,7,5,9,11,12,13]\n",
        "\n",
        "lst_res = list(filter(\n",
        "\n",
        "          lambda x : (x%2!=0) ,\n",
        "          lst\n",
        "\n",
        "))\n",
        "\n",
        "\n",
        "list_res = list(filter(lambda y : (y%2!=0), lst))\n",
        "print(lst_res)\n",
        "print(list_res)"
      ],
      "metadata": {
        "colab": {
          "base_uri": "https://localhost:8080/"
        },
        "id": "XY4EFnxPQ2I4",
        "outputId": "c920acb3-0690-416f-c91f-04fea3ebadb1"
      },
      "execution_count": 5,
      "outputs": [
        {
          "output_type": "stream",
          "name": "stdout",
          "text": [
            "[3, 7, 5, 9, 11, 13]\n",
            "[3, 7, 5, 9, 11, 13]\n"
          ]
        }
      ]
    },
    {
      "cell_type": "code",
      "source": [
        "# syntax of mao:-\n",
        "\n",
        "# map(function , lst)\n",
        "\n",
        "list1 = [2,4,6,8,3,7,5,9,11,12,13]\n",
        "\n",
        "list1_res = list(map(\n",
        "\n",
        "          lambda x : x*2 ,\n",
        "          list1\n",
        "))\n",
        "\n",
        "print(list1_res)"
      ],
      "metadata": {
        "colab": {
          "base_uri": "https://localhost:8080/"
        },
        "id": "O3mDHIQv2iWZ",
        "outputId": "8025c479-1f95-432d-e307-6aa7332ce152"
      },
      "execution_count": 6,
      "outputs": [
        {
          "output_type": "stream",
          "name": "stdout",
          "text": [
            "[4, 8, 12, 16, 6, 14, 10, 18, 22, 24, 26]\n"
          ]
        }
      ]
    },
    {
      "cell_type": "code",
      "source": [
        "# use of reduce with lambda\n",
        "\n",
        "# reduce: It performs a repetitive operation over the pairs of the list\n",
        "# syntax of reduce\n",
        "# reduce(function, list):\n",
        "\n",
        "l = [5,10,15,20,25,30]\n",
        "\n",
        "# from module_name import function_name\n",
        "from functools import reduce\n",
        "\n",
        "Sum = reduce(\n",
        "\n",
        "    lambda x , y : x+y,\n",
        "    l\n",
        ")\n",
        "\n",
        "print(Sum)"
      ],
      "metadata": {
        "colab": {
          "base_uri": "https://localhost:8080/"
        },
        "id": "HdM4ZUft3fPM",
        "outputId": "315d0803-ea3f-4b5f-b52e-9e148d83f029"
      },
      "execution_count": 10,
      "outputs": [
        {
          "output_type": "stream",
          "name": "stdout",
          "text": [
            "105\n"
          ]
        }
      ]
    },
    {
      "cell_type": "code",
      "source": [],
      "metadata": {
        "id": "9TVjFg3CwYhn"
      },
      "execution_count": null,
      "outputs": []
    }
  ]
}