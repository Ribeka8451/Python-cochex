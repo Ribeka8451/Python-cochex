{
  "nbformat": 4,
  "nbformat_minor": 0,
  "metadata": {
    "colab": {
      "provenance": [],
      "authorship_tag": "ABX9TyNtFijEf161qAjBwd5G8YKM",
      "include_colab_link": true
    },
    "kernelspec": {
      "name": "python3",
      "display_name": "Python 3"
    },
    "language_info": {
      "name": "python"
    }
  },
  "cells": [
    {
      "cell_type": "markdown",
      "metadata": {
        "id": "view-in-github",
        "colab_type": "text"
      },
      "source": [
        "<a href=\"https://colab.research.google.com/github/Ribeka8451/Python-cochex/blob/Master/OOPs_2.ipynb\" target=\"_parent\"><img src=\"https://colab.research.google.com/assets/colab-badge.svg\" alt=\"Open In Colab\"/></a>"
      ]
    },
    {
      "cell_type": "code",
      "execution_count": 15,
      "metadata": {
        "id": "oYVnV4ZfclWe",
        "colab": {
          "base_uri": "https://localhost:8080/"
        },
        "outputId": "76f9c37a-1de4-411e-c77d-f4571d186862"
      },
      "outputs": [
        {
          "output_type": "stream",
          "name": "stdout",
          "text": [
            "What's up? I'm Dorothy from the movie The Wizard of Oz\n",
            "Hello!! I'm James Bond from the movie 007 Series\n",
            "Hey I'm Sarah Connor from the movie Terminator\n",
            "Hi, there! I'm Indiana Jones from the movie Indiana Jones\n",
            "Hey I'm Princess Leia from the movie Star Wars\n"
          ]
        }
      ],
      "source": [
        "# Hi, there! I'm Dorothy from the movie The Wizard of Oz!\n",
        "# Hi, there! I'm James Bond from the movie 007 Series!\n",
        "# Howdy, I'm Sarah Connor from the movie Terminator!\n",
        "# Hi, there! I'm Indiana jones from the movie Indiana Jones!\n",
        "# Hello!! I'm Princess Leia from the movie Star Wars!\n",
        "\n",
        "import random\n",
        "\n",
        "class Character:\n",
        "# Constructor method\n",
        " def __init__(self, name, movie):\n",
        "  self.name = name\n",
        "  self.movie = movie\n",
        "\n",
        "# A method to introduce the character to the user\n",
        " def introduce(self):\n",
        "        greetings = [\"Hi, there!\", \"What's up?\", \"Hey\", \"Howdy\", \"Hello!!\"]\n",
        "        greeting = random.choice(greetings)\n",
        "        print(f\"{greeting} I'm {self.name} from the movie {self.movie}\")\n",
        "\n",
        "\n",
        "def main():\n",
        "    dorothy = Character(\"Dorothy\", \"The Wizard of Oz\")\n",
        "    james_bond = Character(\"James Bond\", \"007 Series\")\n",
        "    sarah_connor = Character(\"Sarah Connor\", \"Terminator\")\n",
        "    indiana_jones = Character(\"Indiana Jones\", \"Indiana Jones\")\n",
        "    princess_leia = Character(\"Princess Leia\", \"Star Wars\")\n",
        "\n",
        "    characters = [dorothy, james_bond, sarah_connor, indiana_jones, princess_leia]\n",
        "\n",
        "    for character in characters:\n",
        "        character.introduce()\n",
        "\n",
        "\n",
        "if __name__ == \"__main__\":\n",
        "    main()\n",
        "\n",
        "\n"
      ]
    },
    {
      "cell_type": "markdown",
      "source": [],
      "metadata": {
        "id": "i-e1Tb4ScaoN"
      }
    },
    {
      "cell_type": "code",
      "source": [
        "#Inheritance :\n",
        "# Parent / Base / Super Class\n",
        "# Child / Derived / Sub Class\n",
        "#Parent Class\n",
        "\n",
        "class Person(object):\n",
        "  def __init__(self, name, idnos):\n",
        "    self.name = name\n",
        "    self.idnos = idnos\n",
        "    def display(self):\n",
        "      print(self.name)\n",
        "      print(self.idnos)\n",
        "\n",
        "#Child Class\n",
        "\n",
        "class Employee:\n",
        "  def __init__(self, name, empid, salary, post):\n",
        "    self.name = name\n",
        "    self.empid = empid\n",
        "    self.salary = salary\n",
        "    self.post = post\n",
        "\n",
        "  def display(self):\n",
        "    print(f\"Name: {self.name}\")\n",
        "    print(f\"Employee ID: {self.empid}\")\n",
        "    print(f\"Salary: {self.salary}\")\n",
        "    print(f\"Post: {self.post}\")\n",
        "\n",
        "  def info(self):\n",
        "    print(f\"Name: {self.name}, ID: {self.empid}, Salary: {self.salary}, Post: {self.post}\")\n",
        "\n",
        "Emp = Employee('Manoj', 85598, 9000000, \"Manager\")\n",
        "Emp.display()\n",
        "Emp.info()"
      ],
      "metadata": {
        "colab": {
          "base_uri": "https://localhost:8080/"
        },
        "id": "IA9yO9soetIK",
        "outputId": "960fb1e5-21ad-4793-9ee8-6c548998220b"
      },
      "execution_count": 12,
      "outputs": [
        {
          "output_type": "stream",
          "name": "stdout",
          "text": [
            "Name: Manoj\n",
            "Employee ID: 85598\n",
            "Salary: 9000000\n",
            "Post: Manager\n",
            "Name: Manoj, ID: 85598, Salary: 9000000, Post: Manager\n"
          ]
        }
      ]
    },
    {
      "cell_type": "code",
      "source": [
        "class Person(object):\n",
        "  def __init__(self , name , age,dob):\n",
        "    self.name = name\n",
        "    self.age = age\n",
        "    self.dob = dob\n",
        "    def display(self):\n",
        "      print(self.name  , self.age, self.dob)\n",
        "\n",
        "class Student(Person):\n",
        "  def __init__(self, name , age , dob):\n",
        "    self.sName = name\n",
        "    self.sAge = age\n",
        "    super().__init__(\"Vipul\" , age,\"16-3-2000\")\n",
        "    def displayInfo(self):\n",
        "      print(self.sName , self.sAge)\n",
        "    obj = Student(\"Manoj\", 39 , \"17-04-1990\")\n",
        "    obj.display()\n",
        "    obj.displayInfo()"
      ],
      "metadata": {
        "id": "Yk7GYpbJ9uu-"
      },
      "execution_count": 24,
      "outputs": []
    },
    {
      "cell_type": "code",
      "source": [
        "def fib(n , d):\n",
        "  if n in d:\n",
        "    return d[n]\n",
        "  else:\n",
        "      d[n] =  fib(n-1 , d) + fib(n-2 , d)\n",
        "      return d[n]"
      ],
      "metadata": {
        "id": "xhgdwJlVASry"
      },
      "execution_count": 26,
      "outputs": []
    }
  ]
}