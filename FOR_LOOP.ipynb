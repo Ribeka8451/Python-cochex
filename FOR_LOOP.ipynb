{
  "nbformat": 4,
  "nbformat_minor": 0,
  "metadata": {
    "colab": {
      "provenance": [],
      "authorship_tag": "ABX9TyOK4v+uNOAEr0shizrrUcgX",
      "include_colab_link": true
    },
    "kernelspec": {
      "name": "python3",
      "display_name": "Python 3"
    },
    "language_info": {
      "name": "python"
    }
  },
  "cells": [
    {
      "cell_type": "markdown",
      "metadata": {
        "id": "view-in-github",
        "colab_type": "text"
      },
      "source": [
        "<a href=\"https://colab.research.google.com/github/Ribeka8451/Python-cochex/blob/Master/FOR_LOOP.ipynb\" target=\"_parent\"><img src=\"https://colab.research.google.com/assets/colab-badge.svg\" alt=\"Open In Colab\"/></a>"
      ]
    },
    {
      "cell_type": "code",
      "source": [
        " # syntax of for loop:-\n",
        " # for variable in sequence/condition:\n",
        " #  statement\n",
        "\n",
        "\n",
        "\n",
        "L1 = [1,2,3,4,5,6]\n",
        "print(L1)\n",
        "\n",
        "for i in L1:\n",
        "  print(i)\n"
      ],
      "metadata": {
        "colab": {
          "base_uri": "https://localhost:8080/"
        },
        "id": "EPwYn1k0wreP",
        "outputId": "03f2d08f-3b7c-459f-bf15-3c4bb555f7fe"
      },
      "execution_count": 25,
      "outputs": [
        {
          "output_type": "stream",
          "name": "stdout",
          "text": [
            "[1, 2, 3, 4, 5, 6]\n",
            "1\n",
            "2\n",
            "3\n",
            "4\n",
            "5\n",
            "6\n"
          ]
        }
      ]
    },
    {
      "cell_type": "code",
      "source": [
        "for letter in 'Python':\n",
        "  print(letter)"
      ],
      "metadata": {
        "colab": {
          "base_uri": "https://localhost:8080/"
        },
        "id": "i_ypk4pP3eKZ",
        "outputId": "9ff67e94-38d7-406e-e499-1bf9fe0a0596"
      },
      "execution_count": 26,
      "outputs": [
        {
          "output_type": "stream",
          "name": "stdout",
          "text": [
            "P\n",
            "y\n",
            "t\n",
            "h\n",
            "o\n",
            "n\n"
          ]
        }
      ]
    },
    {
      "cell_type": "code",
      "source": [
        "#range function():--\n",
        "# start from 0 by default and increment by 1 (by default)\n",
        "# range(start_nos , ending_nos, step)\n",
        "\n",
        "# start_nos : start from 0 by default\n",
        "# ending_nos : given by user will always be computed as and-1\n",
        "# step : increment or decrement by default is increment by 1\n",
        "\n",
        "print(list(range(5)))\n",
        "\n",
        "print(list(range(1,5)))\n",
        "\n",
        "print(list(range(1,10,2)))\n",
        "\n",
        "print(list(range(10,0)))\n",
        "\n",
        "\n",
        "\n",
        "print(list(range(-4,4)))\n",
        "\n",
        "print(list(range(-4,4,2)))\n",
        "\n",
        "print(list(range(0,1)))\n",
        "\n",
        "print(list(range(1,1)))"
      ],
      "metadata": {
        "colab": {
          "base_uri": "https://localhost:8080/"
        },
        "id": "W82xAey15LVL",
        "outputId": "ea573b74-a1a2-46ca-b493-206722fbe602"
      },
      "execution_count": 36,
      "outputs": [
        {
          "output_type": "stream",
          "name": "stdout",
          "text": [
            "[0, 1, 2, 3, 4]\n",
            "[1, 2, 3, 4]\n",
            "[1, 3, 5, 7, 9]\n",
            "[]\n",
            "[-4, -3, -2, -1, 0, 1, 2, 3]\n",
            "[-4, -2, 0, 2]\n",
            "[0]\n",
            "[]\n"
          ]
        }
      ]
    },
    {
      "cell_type": "code",
      "source": [
        "for i in range(1,11):\n",
        "  print(i , end = ' ')"
      ],
      "metadata": {
        "colab": {
          "base_uri": "https://localhost:8080/"
        },
        "id": "PBTh_NtJCsoT",
        "outputId": "9d3cdf10-8d61-4d2d-a898-42fb6f3a6fcc"
      },
      "execution_count": 39,
      "outputs": [
        {
          "output_type": "stream",
          "name": "stdout",
          "text": [
            "1 2 3 4 5 6 7 8 9 10 "
          ]
        }
      ]
    },
    {
      "cell_type": "code",
      "source": [
        "#program to print the sum of all even number from 1 to 20:\n",
        "sum = 0\n",
        "\n",
        "for i in range(0,21,2):\n",
        "  print(i)\n",
        "  sum = sum+i\n",
        "\n",
        "\n",
        "  print(\"The Sum of even numbers are :\", sum)"
      ],
      "metadata": {
        "colab": {
          "base_uri": "https://localhost:8080/"
        },
        "id": "qUfUBCpwGn-i",
        "outputId": "447d3a28-ff60-4b53-8ee3-45a8be701c10"
      },
      "execution_count": 38,
      "outputs": [
        {
          "output_type": "stream",
          "name": "stdout",
          "text": [
            "0\n",
            "The Sum of even numbers are : 0\n",
            "2\n",
            "The Sum of even numbers are : 2\n",
            "4\n",
            "The Sum of even numbers are : 6\n",
            "6\n",
            "The Sum of even numbers are : 12\n",
            "8\n",
            "The Sum of even numbers are : 20\n",
            "10\n",
            "The Sum of even numbers are : 30\n",
            "12\n",
            "The Sum of even numbers are : 42\n",
            "14\n",
            "The Sum of even numbers are : 56\n",
            "16\n",
            "The Sum of even numbers are : 72\n",
            "18\n",
            "The Sum of even numbers are : 90\n",
            "20\n",
            "The Sum of even numbers are : 110\n"
          ]
        }
      ]
    },
    {
      "cell_type": "code",
      "source": [
        "#program to print the sum of all odd number from 1 to 20:\n",
        "sum = 0\n",
        "\n",
        "for i in range(1,21,2):\n",
        "  print(i)\n",
        "  sum = sum+i\n",
        "\n",
        "\n",
        "  print(\"The Sum of even numbers are :\", sum)"
      ],
      "metadata": {
        "colab": {
          "base_uri": "https://localhost:8080/"
        },
        "id": "EmN4_1WsIj5f",
        "outputId": "bfda4460-2174-45c3-c444-021deab7d8e2"
      },
      "execution_count": 40,
      "outputs": [
        {
          "output_type": "stream",
          "name": "stdout",
          "text": [
            "1\n",
            "The Sum of even numbers are : 1\n",
            "3\n",
            "The Sum of even numbers are : 4\n",
            "5\n",
            "The Sum of even numbers are : 9\n",
            "7\n",
            "The Sum of even numbers are : 16\n",
            "9\n",
            "The Sum of even numbers are : 25\n",
            "11\n",
            "The Sum of even numbers are : 36\n",
            "13\n",
            "The Sum of even numbers are : 49\n",
            "15\n",
            "The Sum of even numbers are : 64\n",
            "17\n",
            "The Sum of even numbers are : 81\n",
            "19\n",
            "The Sum of even numbers are : 100\n"
          ]
        }
      ]
    },
    {
      "cell_type": "code",
      "source": [
        "#program to print the sum of all odd number from 1 to 20:\n",
        "product = 0\n",
        "\n",
        "for i in range(1,21,2):\n",
        "  print(i)\n",
        "  product = product*i\n",
        "\n",
        "\n",
        "  print(\"The Sum of even numbers are :\", product)"
      ],
      "metadata": {
        "colab": {
          "base_uri": "https://localhost:8080/"
        },
        "id": "WjRt-8DMJh1z",
        "outputId": "5ddc3869-3657-48f2-8e46-6e78db3ecd8d"
      },
      "execution_count": 44,
      "outputs": [
        {
          "output_type": "stream",
          "name": "stdout",
          "text": [
            "1\n",
            "The Sum of even numbers are : 0\n",
            "3\n",
            "The Sum of even numbers are : 0\n",
            "5\n",
            "The Sum of even numbers are : 0\n",
            "7\n",
            "The Sum of even numbers are : 0\n",
            "9\n",
            "The Sum of even numbers are : 0\n",
            "11\n",
            "The Sum of even numbers are : 0\n",
            "13\n",
            "The Sum of even numbers are : 0\n",
            "15\n",
            "The Sum of even numbers are : 0\n",
            "17\n",
            "The Sum of even numbers are : 0\n",
            "19\n",
            "The Sum of even numbers are : 0\n"
          ]
        }
      ]
    }
  ]
}