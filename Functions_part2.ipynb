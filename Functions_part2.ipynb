{
  "nbformat": 4,
  "nbformat_minor": 0,
  "metadata": {
    "colab": {
      "provenance": [],
      "authorship_tag": "ABX9TyO8HClayRR2lXrgNh8KEGW5",
      "include_colab_link": true
    },
    "kernelspec": {
      "name": "python3",
      "display_name": "Python 3"
    },
    "language_info": {
      "name": "python"
    }
  },
  "cells": [
    {
      "cell_type": "markdown",
      "metadata": {
        "id": "view-in-github",
        "colab_type": "text"
      },
      "source": [
        "<a href=\"https://colab.research.google.com/github/Ribeka8451/Python-cochex/blob/main/Functions_part2.ipynb\" target=\"_parent\"><img src=\"https://colab.research.google.com/assets/colab-badge.svg\" alt=\"Open In Colab\"/></a>"
      ]
    },
    {
      "cell_type": "code",
      "execution_count": 1,
      "metadata": {
        "id": "lzduY1z0c5_k",
        "colab": {
          "base_uri": "https://localhost:8080/"
        },
        "outputId": "00c21f3c-7050-4c19-873f-9f4477af6a50"
      },
      "outputs": [
        {
          "output_type": "stream",
          "name": "stdout",
          "text": [
            "this is parameter 10\n"
          ]
        }
      ],
      "source": [
        "def func(a):#parameter\n",
        "  print(\"this is parameter\",a)\n",
        "\n",
        "func(10)#Arguments\n",
        "\n"
      ]
    },
    {
      "cell_type": "code",
      "source": [
        "# Types of Arguments\n",
        "\n",
        "# Keyword Arguments\n",
        "\n",
        "# Default Arguments\n",
        "\n",
        "# Required Arguments\n",
        "\n",
        "# Variable-length Arguments"
      ],
      "metadata": {
        "id": "A6leJs5xJQWV"
      },
      "execution_count": null,
      "outputs": []
    },
    {
      "cell_type": "code",
      "source": [
        "# Keyword/Reserved Arguments\n",
        "\n",
        "def func(str):\n",
        "  print(str)\n",
        "  return\n",
        "\n",
        "func(str = \"Coachx\")\n",
        "\n",
        "def float_func(float):\n",
        "  print(float)\n",
        "  return\n",
        "\n",
        "float_func(float = 3.14)"
      ],
      "metadata": {
        "colab": {
          "base_uri": "https://localhost:8080/"
        },
        "id": "KJgYHddrc9iE",
        "outputId": "205465c0-8e10-4525-b432-7f1e67a4abbb"
      },
      "execution_count": null,
      "outputs": [
        {
          "output_type": "stream",
          "name": "stdout",
          "text": [
            "Coachx\n",
            "3.14\n"
          ]
        }
      ]
    },
    {
      "cell_type": "code",
      "source": [
        "# Required Arguments\n",
        "\n",
        "def printme(a):\n",
        "  return a\n",
        "\n",
        "printme()\n"
      ],
      "metadata": {
        "colab": {
          "base_uri": "https://localhost:8080/",
          "height": 211
        },
        "id": "SC9pXSMZE7iR",
        "outputId": "ada9e6cb-c912-4718-b3fa-68ad0fcb5bf9"
      },
      "execution_count": 4,
      "outputs": [
        {
          "output_type": "error",
          "ename": "NameError",
          "evalue": "name 'Ribeka' is not defined",
          "traceback": [
            "\u001b[0;31m---------------------------------------------------------------------------\u001b[0m",
            "\u001b[0;31mNameError\u001b[0m                                 Traceback (most recent call last)",
            "\u001b[0;32m<ipython-input-4-43b0d8f1d877>\u001b[0m in \u001b[0;36m<cell line: 6>\u001b[0;34m()\u001b[0m\n\u001b[1;32m      4\u001b[0m   \u001b[0;32mreturn\u001b[0m \u001b[0ma\u001b[0m\u001b[0;34m\u001b[0m\u001b[0;34m\u001b[0m\u001b[0m\n\u001b[1;32m      5\u001b[0m \u001b[0;34m\u001b[0m\u001b[0m\n\u001b[0;32m----> 6\u001b[0;31m \u001b[0mprintme\u001b[0m\u001b[0;34m(\u001b[0m\u001b[0;34m\"This name is\"\u001b[0m\u001b[0;34m,\u001b[0m \u001b[0mRibeka\u001b[0m\u001b[0;34m)\u001b[0m\u001b[0;34m\u001b[0m\u001b[0;34m\u001b[0m\u001b[0m\n\u001b[0m\u001b[1;32m      7\u001b[0m \u001b[0;34m\u001b[0m\u001b[0m\n\u001b[1;32m      8\u001b[0m \u001b[0mprint\u001b[0m\u001b[0;34m(\u001b[0m\u001b[0mprintme\u001b[0m\u001b[0;34m)\u001b[0m\u001b[0;34m\u001b[0m\u001b[0;34m\u001b[0m\u001b[0m\n",
            "\u001b[0;31mNameError\u001b[0m: name 'Ribeka' is not defined"
          ]
        }
      ]
    },
    {
      "cell_type": "code",
      "source": [
        "# Variable-length Arguments\n",
        "\n",
        "def printInfo(arg1 , *vartuple):\n",
        "  print(\"Output is:\")\n",
        "  print(arg1)\n",
        "  print(vartuple)\n",
        "\n",
        "printInfo(10)\n",
        "printInfo(10 , 20,30,40,50,70,80,80,90,100)\n",
        "printInfo(10, \"Prem Kant\" , 20 , \"Vipul\" , 30,\"Manoj\" , 40 ,\"Ribeka\" ,50, \"Krati\")\n",
        "\n",
        "def empid(*Empid):\n",
        "  print(Empid)\n",
        "\n",
        "\n",
        "empid(10)\n",
        "empid(10,20,30,40,50,60,70,80,900)"
      ],
      "metadata": {
        "colab": {
          "base_uri": "https://localhost:8080/"
        },
        "id": "6dlRGHmQdUNm",
        "outputId": "9e12ff86-16c6-4827-dc18-59f5d8cfe3a7"
      },
      "execution_count": null,
      "outputs": [
        {
          "output_type": "stream",
          "name": "stdout",
          "text": [
            "Output is:\n",
            "10\n",
            "()\n",
            "Output is:\n",
            "10\n",
            "(20, 30, 40, 50, 70, 80, 80, 90, 100)\n",
            "Output is:\n",
            "10\n",
            "('Prem Kant', 20, 'Vipul', 30, 'Manoj', 40, 'Ribeka', 50, 'Krati')\n",
            "(10,)\n",
            "(10, 20, 30, 40, 50, 60, 70, 80, 900)\n"
          ]
        }
      ]
    },
    {
      "cell_type": "code",
      "source": [
        "# Default Arguments\n",
        "\n",
        "def myData(name , age = 20):\n",
        "  print(\"Name:\" , name)\n",
        "  print(\"Age\" ,age)\n",
        "\n",
        "myData(age = 25 , name = \"Manoj\")\n",
        "myData(name = \"Vipul\")\n",
        "\n",
        "def myinfo(name = \"Coachx\", age = 20):\n",
        "  print(\"Name:\" , name)\n",
        "  print(\"Age\" ,age)\n",
        "\n",
        "myinfo()\n",
        "myinfo()\n",
        "myinfo()\n",
        "myinfo(age = 50 , name= \"Sheikh Dilsher\")\n",
        "\n",
        "\n",
        "def nSquare(x = 3,  y = 2):\n",
        "  return(x*x+2*x*y+y*y)\n",
        "\n",
        "nSquare()"
      ],
      "metadata": {
        "colab": {
          "base_uri": "https://localhost:8080/"
        },
        "id": "lvHiGstNn6F2",
        "outputId": "dd930b2f-66c5-4b28-e089-fa57ccbad318"
      },
      "execution_count": null,
      "outputs": [
        {
          "output_type": "stream",
          "name": "stdout",
          "text": [
            "Name: Manoj\n",
            "Age 25\n",
            "Name: Vipul\n",
            "Age 20\n",
            "Name: Coachx\n",
            "Age 20\n",
            "Name: Coachx\n",
            "Age 20\n",
            "Name: Coachx\n",
            "Age 20\n",
            "Name: Sheikh Dilsher\n",
            "Age 50\n"
          ]
        },
        {
          "output_type": "execute_result",
          "data": {
            "text/plain": [
              "25"
            ]
          },
          "metadata": {},
          "execution_count": 9
        }
      ]
    },
    {
      "cell_type": "code",
      "source": [
        "import random\n",
        "\n",
        "def tag_friend():\n",
        "  friends = [\"Vipul\", \"Manoj\", \"Ribeka\"]\n",
        "  tagged_friend = random.choice(friends)\n",
        "  print(\"You tagged a friend\", tagged_friend)\n",
        "\n",
        "print(\"/n ******Tagged Friend*****\")\n",
        "for _ in range(3):\n",
        "  tag_friend()\n"
      ],
      "metadata": {
        "colab": {
          "base_uri": "https://localhost:8080/"
        },
        "id": "5kWOTPsmMiib",
        "outputId": "b46b3ec7-8476-452b-9c64-042ce4c52a82"
      },
      "execution_count": 9,
      "outputs": [
        {
          "output_type": "stream",
          "name": "stdout",
          "text": [
            "/n ******Tagged Friend*****\n",
            "You tagged a friend Manoj\n",
            "You tagged a friend Ribeka\n",
            "You tagged a friend Manoj\n"
          ]
        }
      ]
    },
    {
      "cell_type": "code",
      "source": [
        "import datetime, time\n",
        "import random\n",
        "\n",
        "\n",
        "def get_notification():\n",
        "  current_datetime = datetime.datetime.now()\n",
        "  print(\"New Notification Received at:\", current_datetime)\n",
        "\n",
        "  time.sleep(random.randint(0,10))\n",
        "#  time.sleep(5)\n",
        "\n",
        "print(\"n=====Get Notification====\")\n",
        "\n",
        "for _ in range(3):\n",
        " get_notification()"
      ],
      "metadata": {
        "colab": {
          "base_uri": "https://localhost:8080/"
        },
        "id": "CD2bFIopkCF9",
        "outputId": "a4e2ff61-3008-43fd-c42b-6affcf23baa8"
      },
      "execution_count": 2,
      "outputs": [
        {
          "output_type": "stream",
          "name": "stdout",
          "text": [
            "n=====Get Notification====\n",
            "New Notification Received at: 2024-02-24 15:11:17.989373\n",
            "New Notification Received at: 2024-02-24 15:11:22.992602\n",
            "New Notification Received at: 2024-02-24 15:11:26.996953\n"
          ]
        }
      ]
    },
    {
      "cell_type": "code",
      "source": [],
      "metadata": {
        "id": "jJZ9Vswpkj1X"
      },
      "execution_count": null,
      "outputs": []
    }
  ]
}