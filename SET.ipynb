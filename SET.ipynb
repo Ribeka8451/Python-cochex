{
  "nbformat": 4,
  "nbformat_minor": 0,
  "metadata": {
    "colab": {
      "provenance": [],
      "authorship_tag": "ABX9TyMH2HjYpMBfla0PnnDe4zMM",
      "include_colab_link": true
    },
    "kernelspec": {
      "name": "python3",
      "display_name": "Python 3"
    },
    "language_info": {
      "name": "python"
    }
  },
  "cells": [
    {
      "cell_type": "markdown",
      "metadata": {
        "id": "view-in-github",
        "colab_type": "text"
      },
      "source": [
        "<a href=\"https://colab.research.google.com/github/Ribeka8451/Python-cochex/blob/Master/SET.ipynb\" target=\"_parent\"><img src=\"https://colab.research.google.com/assets/colab-badge.svg\" alt=\"Open In Colab\"/></a>"
      ]
    },
    {
      "cell_type": "code",
      "execution_count": null,
      "metadata": {
        "id": "kndn8GMujerw"
      },
      "outputs": [],
      "source": [
        "# what is set?\n",
        "# A set is Unordered collection of items\n",
        "# Every elements is unique (no duplicate)\n",
        "# Set is represented with {} braces\n",
        "\n",
        "# Sets performs Various Operations:-\n",
        "\n",
        "# Union\n",
        "# Intersection\n",
        "# Difference\n",
        "# Symmteric Difference\n",
        "# Comparison\n",
        "# Subset and Superset"
      ]
    },
    {
      "cell_type": "code",
      "source": [
        "a = {1,2,3,4,5,7,8,9,10}\n",
        "print(a)\n",
        "for i in a:\n",
        "  print(i)"
      ],
      "metadata": {
        "colab": {
          "base_uri": "https://localhost:8080/"
        },
        "id": "-gzCU4w650bN",
        "outputId": "7e27b035-46b0-4f15-feb7-aa0b66d991f1"
      },
      "execution_count": 2,
      "outputs": [
        {
          "output_type": "stream",
          "name": "stdout",
          "text": [
            "{1, 2, 3, 4, 5, 7, 8, 9, 10}\n",
            "1\n",
            "2\n",
            "3\n",
            "4\n",
            "5\n",
            "7\n",
            "8\n",
            "9\n",
            "10\n"
          ]
        }
      ]
    },
    {
      "cell_type": "code",
      "source": [
        "b = {1,1,2,3,4,5,7,7,8,9,6} #Remove duplicates\n",
        "print(b)\n",
        "print(type(b))"
      ],
      "metadata": {
        "colab": {
          "base_uri": "https://localhost:8080/"
        },
        "id": "ipmEJ-hy6kBp",
        "outputId": "943750b4-eac8-4857-b6c9-c5b814cde1a1"
      },
      "execution_count": 4,
      "outputs": [
        {
          "output_type": "stream",
          "name": "stdout",
          "text": [
            "{1, 2, 3, 4, 5, 6, 7, 8, 9}\n",
            "<class 'set'>\n"
          ]
        }
      ]
    },
    {
      "cell_type": "code",
      "source": [
        "s = set('abc')\n",
        "print(s)\n",
        "\n",
        "s1 = set(range(1,11))\n",
        "print(s1)\n",
        "\n",
        "# True=1\n",
        "# False=0\n",
        "\n",
        "mixed_data_type = {0,1,2,3,1.0,3.14,3.00, True, False, \"coachx\", \"Hi\", '@'}\n",
        "print(mixed_data_type)"
      ],
      "metadata": {
        "colab": {
          "base_uri": "https://localhost:8080/"
        },
        "id": "39TUc2Fs65RD",
        "outputId": "25f495cf-66ae-4ad0-f463-6f9879cffbf0"
      },
      "execution_count": 9,
      "outputs": [
        {
          "output_type": "stream",
          "name": "stdout",
          "text": [
            "{'b', 'a', 'c'}\n",
            "{1, 2, 3, 4, 5, 6, 7, 8, 9, 10}\n",
            "{0, 1, 2, 3, 3.14, '@', 'coachx', 'Hi'}\n"
          ]
        }
      ]
    },
    {
      "cell_type": "code",
      "source": [
        "# deleting in set function:\n",
        "\n",
        "b = {\"A\", \"b\", \"B\", \"c\", \"D\", \"C\"}\n",
        "print(b)\n",
        "\n",
        "b.discard(\"b\") #remove selected items\n",
        "print(b)\n",
        "\n",
        "b.remove(\"A\") #remove selected items\n",
        "print(b)\n",
        "\n",
        "b.pop()  #remove last chracter\n",
        "print(b)\n",
        "\n",
        "b.clear\n",
        "print(b)\n",
        "\n",
        "del b\n",
        "print(b)\n"
      ],
      "metadata": {
        "colab": {
          "base_uri": "https://localhost:8080/",
          "height": 263
        },
        "id": "Cx4n43foXLQ5",
        "outputId": "ffccd719-fcd4-43ee-dce3-586e59d81547"
      },
      "execution_count": 15,
      "outputs": [
        {
          "output_type": "stream",
          "name": "stdout",
          "text": [
            "{'b', 'A', 'c', 'C', 'B', 'D'}\n",
            "{'A', 'c', 'C', 'B', 'D'}\n",
            "{'c', 'C', 'B', 'D'}\n",
            "{'C', 'B', 'D'}\n",
            "{'C', 'B', 'D'}\n"
          ]
        },
        {
          "output_type": "error",
          "ename": "NameError",
          "evalue": "name 'b' is not defined",
          "traceback": [
            "\u001b[0;31m---------------------------------------------------------------------------\u001b[0m",
            "\u001b[0;31mNameError\u001b[0m                                 Traceback (most recent call last)",
            "\u001b[0;32m<ipython-input-15-59bcae68f9bc>\u001b[0m in \u001b[0;36m<cell line: 19>\u001b[0;34m()\u001b[0m\n\u001b[1;32m     17\u001b[0m \u001b[0;34m\u001b[0m\u001b[0m\n\u001b[1;32m     18\u001b[0m \u001b[0;32mdel\u001b[0m \u001b[0mb\u001b[0m\u001b[0;34m\u001b[0m\u001b[0;34m\u001b[0m\u001b[0m\n\u001b[0;32m---> 19\u001b[0;31m \u001b[0mprint\u001b[0m\u001b[0;34m(\u001b[0m\u001b[0mb\u001b[0m\u001b[0;34m)\u001b[0m\u001b[0;34m\u001b[0m\u001b[0;34m\u001b[0m\u001b[0m\n\u001b[0m",
            "\u001b[0;31mNameError\u001b[0m: name 'b' is not defined"
          ]
        }
      ]
    },
    {
      "cell_type": "code",
      "source": [
        "#Update the Sets\n",
        "#add()\n",
        "#update()\n",
        "\n",
        "s_add = {1,2,3,4,5,6,7}\n",
        "print(s_add)\n",
        "s_add.add(10)\n",
        "print(s_add)\n",
        "\n",
        "s_1 = {'a', 'b','c'}\n",
        "s_2 = {1,2,3}\n",
        "s_1.update(s_2)\n",
        "print(s_1)"
      ],
      "metadata": {
        "colab": {
          "base_uri": "https://localhost:8080/"
        },
        "id": "5I-4q_oYY3ZT",
        "outputId": "e395afd8-a696-4f2a-98ae-feed72845a9a"
      },
      "execution_count": 17,
      "outputs": [
        {
          "output_type": "stream",
          "name": "stdout",
          "text": [
            "{1, 2, 3, 4, 5, 6, 7}\n",
            "{1, 2, 3, 4, 5, 6, 7, 10}\n",
            "{'b', 'a', 'c', 1, 2, 3}\n"
          ]
        }
      ]
    },
    {
      "cell_type": "code",
      "source": [
        "# Basic Set Operations\n",
        "\n",
        "# union\n",
        "A = {1,2,3,4,5,6}\n",
        "B = {8,9,10}\n",
        "C = A|B\n",
        "print(\"Union of the set\", C)\n",
        "\n",
        "# Intersection of set\n",
        "\n",
        "a = {1,2,3,4,5,6}\n",
        "b = {1,2,3,4}\n",
        "c = a&b\n",
        "print(\"Intersection of a & b\", c)\n",
        "\n",
        "# Difference of the set\n",
        "DayA = set([\"Mon\", \"Tues\", \"Wed\"])\n",
        "DayB = set([\"Wed\", \"Thurs\", \"Fri\", \"Sat\", \"Sun\"])\n",
        "ALLDAYS = DayA - DayB\n",
        "print(\"Difference of the set\", ALLDAYS)\n",
        "\n",
        "# Symmteric Difference\n",
        "SD1 = {1,2,3,4,6,7}\n",
        "SD2 = {1,2,3,9,8,5}\n",
        "SD3 = SD1 ^ SD2\n",
        "SD4 = SD1 - SD2\n",
        "SD5 = SD2 - SD1\n",
        "SD6 = SD4 - SD5\n",
        "print(\"Symmteric Difference of the data:\", SD3)\n",
        "print(SD6)\n",
        "\n",
        "# Comparison of the sets\n",
        "DayA = set([\"Mon\", \"Tues\", \"Wed\"])\n",
        "DayB = set([\"Mon\", \"Tues\", \"Wed\", \"Thurs\", \"Fri\", \"Sat\", \"Sun\"])\n",
        "\n",
        "subsetRes = DayA<=DayB\n",
        "supersetRes = DayB>=DayA\n",
        "\n",
        "print(subsetRes)\n",
        "print(supersetRes)"
      ],
      "metadata": {
        "colab": {
          "base_uri": "https://localhost:8080/"
        },
        "id": "CEzos9fsdw72",
        "outputId": "66d19804-ce6f-4a13-baee-eed3068bc4be"
      },
      "execution_count": 10,
      "outputs": [
        {
          "output_type": "stream",
          "name": "stdout",
          "text": [
            "Union of the set {1, 2, 3, 4, 5, 6, 8, 9, 10}\n",
            "Intersection of a & b {1, 2, 3, 4}\n",
            "Difference of the set {'Mon', 'Tues'}\n",
            "Symmteric Difference of the data: {4, 5, 6, 7, 8, 9}\n",
            "{4, 6, 7}\n",
            "True\n",
            "True\n"
          ]
        }
      ]
    }
  ]
}